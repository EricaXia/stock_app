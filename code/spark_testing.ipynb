{
 "cells": [
  {
   "cell_type": "code",
   "execution_count": 11,
   "metadata": {},
   "outputs": [],
   "source": [
    "import datetime\n",
    "\n",
    "import csv\n",
    "\n",
    "import pandas as pd\n",
    "\n",
    "from sqlalchemy import create_engine\n",
    "\n",
    "import yfinance as yf \n",
    "\n",
    "from bs4 import BeautifulSoup\n",
    "\n",
    "import requests\n",
    "\n",
    "from pyspark.sql import SparkSession\n",
    "\n",
    "import pyspark\n",
    "\n",
    "from pyspark.context import SparkContext\n",
    "\n",
    "import pyspark.sql.functions as fc\n",
    "\n",
    "import pymysql\n",
    "\n",
    "from pyspark.sql import Row\n",
    "\n",
    "from pyspark.sql.types import *"
   ]
  },
  {
   "cell_type": "code",
   "execution_count": 2,
   "metadata": {},
   "outputs": [],
   "source": [
    "sc = SparkContext.getOrCreate()\n",
    "\n",
    "spark = SparkSession(sc)"
   ]
  },
  {
   "cell_type": "code",
   "execution_count": 5,
   "metadata": {},
   "outputs": [],
   "source": [
    "connection = pymysql.connect(host='127.0.0.1',\n",
    "                             user='root',\n",
    "                             password='PApOEaPbJNOM62p1',\n",
    "                             db='stockdb'\n",
    "                            ,port=1234)"
   ]
  },
  {
   "cell_type": "code",
   "execution_count": 6,
   "metadata": {},
   "outputs": [],
   "source": [
    "cur = connection.cursor()\n",
    "\n"
   ]
  },
  {
   "cell_type": "code",
   "execution_count": 3,
   "metadata": {},
   "outputs": [],
   "source": [
    "def industrycompany(cursor,Industry):\n",
    "    sqlcode=('Select * From CompanyInformation Where Sector=\"'+Industry+'\"')\n",
    "    cursor.execute(sqlcode)\n",
    "    Industry = cursor.fetchall()\n",
    "    compname=[]\n",
    "    for i in Industry:\n",
    "        compname.append(i[0])\n",
    "        \n",
    "    return compname"
   ]
  },
  {
   "cell_type": "code",
   "execution_count": 7,
   "metadata": {},
   "outputs": [],
   "source": [
    "compname=industrycompany(cur,'Industrials')"
   ]
  },
  {
   "cell_type": "code",
   "execution_count": 8,
   "metadata": {},
   "outputs": [],
   "source": [
    "def getprice(name):\n",
    "    #newdict=dict()\n",
    "    newlist=[]\n",
    "    for i in name:\n",
    "        newdict=dict()\n",
    "        url='https://finance.yahoo.com/quote/'\n",
    "        finalurl=url+i+'?p='+i+'&.tsrc=fin-srch'\n",
    "        #print(finalurl)\n",
    "        r=requests.get(finalurl)\n",
    "        soup = BeautifulSoup(r.content,'lxml')\n",
    "        stockprice=soup.find_all('div',{\"My(6px) Pos(r) smartphone_Mt(6px)\"})[0].find('span').text\n",
    "        #print(stockprice)\n",
    "        newdict['name']=i\n",
    "        newdict['price']=stockprice\n",
    "        newlist.append(newdict)\n",
    "    return newlist"
   ]
  },
  {
   "cell_type": "code",
   "execution_count": 9,
   "metadata": {},
   "outputs": [],
   "source": [
    "compdict=getprice(compname)"
   ]
  },
  {
   "cell_type": "code",
   "execution_count": 12,
   "metadata": {},
   "outputs": [],
   "source": [
    "rdd = sc.parallelize(compdict)\n",
    "schema = StructType([ StructField(\"name\", StringType(), True),StructField(\"price\", StringType(), True)])"
   ]
  },
  {
   "cell_type": "code",
   "execution_count": 13,
   "metadata": {},
   "outputs": [],
   "source": [
    "df3 = spark.createDataFrame(rdd, schema)"
   ]
  },
  {
   "cell_type": "code",
   "execution_count": 14,
   "metadata": {},
   "outputs": [
    {
     "data": {
      "text/plain": [
       "[Row(name='AAL', price='12.04'),\n",
       " Row(name='ALK', price='44.34'),\n",
       " Row(name='ALLE', price='112.36'),\n",
       " Row(name='AME', price='116.76'),\n",
       " Row(name='AOS', price='54.82'),\n",
       " Row(name='BA', price='182.15'),\n",
       " Row(name='CARR', price='38.06'),\n",
       " Row(name='CAT', price='169.46'),\n",
       " Row(name='CHRW', price='93.33'),\n",
       " Row(name='CMI', price='234.90'),\n",
       " Row(name='CPRT', price='117.80'),\n",
       " Row(name='CSX', price='90.04'),\n",
       " Row(name='CTAS', price='360.04'),\n",
       " Row(name='DAL', price='35.02'),\n",
       " Row(name='DE', price='249.35'),\n",
       " Row(name='DOV', price='120.87'),\n",
       " Row(name='EFX', price='159.19'),\n",
       " Row(name='EMR', price='74.90'),\n",
       " Row(name='ETN', price='114.07'),\n",
       " Row(name='EXPD', price='88.61'),\n",
       " Row(name='FAST', price='47.24'),\n",
       " Row(name='FBHS', price='83.05'),\n",
       " Row(name='FDX', price='267.81'),\n",
       " Row(name='FLS', price='31.93'),\n",
       " Row(name='FTV', price='70.00'),\n",
       " Row(name='GD', price='150.29'),\n",
       " Row(name='GE', price='8.89'),\n",
       " Row(name='GWW', price='403.39'),\n",
       " Row(name='HII', price='158.04'),\n",
       " Row(name='HON', price='199.29'),\n",
       " Row(name='HWM', price='22.28'),\n",
       " Row(name='IEX', price='191.44'),\n",
       " Row(name='INFO', price='91.45'),\n",
       " Row(name='IR', price='42.61'),\n",
       " Row(name='ITW', price='213.68'),\n",
       " Row(name='J', price='98.85'),\n",
       " Row(name='JBHT', price='127.96'),\n",
       " Row(name='JCI', price='44.00'),\n",
       " Row(name='KSU', price='188.02'),\n",
       " Row(name='LHX', price='187.71'),\n",
       " Row(name='LMT', price='369.28'),\n",
       " Row(name='LUV', price='43.22'),\n",
       " Row(name='MAS', price='54.65'),\n",
       " Row(name='MMM', price='169.21'),\n",
       " Row(name='NLSN', price='15.58'),\n",
       " Row(name='NOC', price='309.96'),\n",
       " Row(name='NSC', price='233.09'),\n",
       " Row(name='ODFL', price='198.00'),\n",
       " Row(name='OTIS', price='66.12'),\n",
       " Row(name='PCAR', price='90.17'),\n",
       " Row(name='PH', price='260.77'),\n",
       " Row(name='PNR', price='52.09'),\n",
       " Row(name='PWR', price='67.54'),\n",
       " Row(name='RHI', price='62.97'),\n",
       " Row(name='ROK', price='242.19'),\n",
       " Row(name='ROL', price='59.39'),\n",
       " Row(name='ROP', price='401.35'),\n",
       " Row(name='RSG', price='102.57'),\n",
       " Row(name='RTX', price='65.85'),\n",
       " Row(name='SNA', price='170.18'),\n",
       " Row(name='SWK', price='180.89'),\n",
       " Row(name='TDG', price='560.81'),\n",
       " Row(name='TDY', price='367.25'),\n",
       " Row(name='TT', price='142.96'),\n",
       " Row(name='TXT', price='41.85'),\n",
       " Row(name='UAL', price='38.51'),\n",
       " Row(name='UNP', price='200.00'),\n",
       " Row(name='UPS', price='166.64'),\n",
       " Row(name='URI', price='207.25'),\n",
       " Row(name='VRSK', price='199.83'),\n",
       " Row(name='WAB', price='68.11'),\n",
       " Row(name='WM', price='122.80'),\n",
       " Row(name='XYL', price='93.80')]"
      ]
     },
     "execution_count": 14,
     "metadata": {},
     "output_type": "execute_result"
    }
   ],
   "source": [
    "df3.collect()"
   ]
  },
  {
   "cell_type": "code",
   "execution_count": null,
   "metadata": {},
   "outputs": [],
   "source": []
  }
 ],
 "metadata": {
  "kernelspec": {
   "display_name": "Python 3",
   "language": "python",
   "name": "python3"
  },
  "language_info": {
   "codemirror_mode": {
    "name": "ipython",
    "version": 3
   },
   "file_extension": ".py",
   "mimetype": "text/x-python",
   "name": "python",
   "nbconvert_exporter": "python",
   "pygments_lexer": "ipython3",
   "version": "3.7.6"
  }
 },
 "nbformat": 4,
 "nbformat_minor": 4
}
