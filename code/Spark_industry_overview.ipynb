{
 "cells": [
  {
   "cell_type": "code",
   "execution_count": 1,
   "metadata": {},
   "outputs": [],
   "source": [
    "import datetime\n",
    "\n",
    "import csv\n",
    "\n",
    "import pandas as pd\n",
    "\n",
    "from sqlalchemy import create_engine\n",
    "\n",
    "import yfinance as yf \n",
    "\n",
    "from bs4 import BeautifulSoup\n",
    "\n",
    "import requests\n",
    "\n",
    "from pyspark.sql import SparkSession\n",
    "\n",
    "import pyspark\n",
    "\n",
    "from pyspark.context import SparkContext\n",
    "\n",
    "import pyspark.sql.functions as fc\n",
    "\n",
    "import pymysql\n",
    "\n",
    "from pyspark.sql import Row\n",
    "\n",
    "from pyspark.sql.types import *\n",
    "\n",
    "import json\n",
    "\n",
    "import numpy as np"
   ]
  },
  {
   "cell_type": "code",
   "execution_count": 2,
   "metadata": {},
   "outputs": [],
   "source": [
    "sc = SparkContext.getOrCreate()\n",
    "\n",
    "spark = SparkSession(sc)\n"
   ]
  },
  {
   "cell_type": "code",
   "execution_count": 3,
   "metadata": {},
   "outputs": [],
   "source": [
    "stockspark = spark.read.json('stockdata.json')\n",
    "\n",
    "companyspark = spark.read.json('companyinfo.json')\n"
   ]
  },
  {
   "cell_type": "code",
   "execution_count": 4,
   "metadata": {},
   "outputs": [
    {
     "name": "stdout",
     "output_type": "stream",
     "text": [
      "+--------------------+--------------------+------+\n",
      "|                Name|              Sector|Symbol|\n",
      "+--------------------+--------------------+------+\n",
      "|Agilent Technolog...|         Health Care|     A|\n",
      "|American Airlines...|         Industrials|   AAL|\n",
      "|  Advance Auto Parts|Consumer Discreti...|   AAP|\n",
      "|          Apple Inc.|Information Techn...|  AAPL|\n",
      "|         AbbVie Inc.|         Health Care|  ABBV|\n",
      "|AmerisourceBergen...|         Health Care|   ABC|\n",
      "|         ABIOMED Inc|         Health Care|  ABMD|\n",
      "| Abbott Laboratories|         Health Care|   ABT|\n",
      "|       Accenture plc|Information Techn...|   ACN|\n",
      "|          Adobe Inc.|Information Techn...|  ADBE|\n",
      "+--------------------+--------------------+------+\n",
      "only showing top 10 rows\n",
      "\n"
     ]
    }
   ],
   "source": [
    "companyspark.show(10)\n"
   ]
  },
  {
   "cell_type": "code",
   "execution_count": 5,
   "metadata": {},
   "outputs": [
    {
     "name": "stdout",
     "output_type": "stream",
     "text": [
      "+-----+----------+---------+-----+-----+----+-----+---------+\n",
      "|close|      date|dividends| high|  low|name| open|   volume|\n",
      "+-----+----------+---------+-----+-----+----+-----+---------+\n",
      "| 85.4|01/02/2020|      0.0| 85.8|84.65|   A|85.35|1410500.0|\n",
      "|84.03|01/03/2020|      0.0|84.78|83.96|   A|84.13|1118300.0|\n",
      "|84.28|01/06/2020|      0.0|84.28|83.06|   A|83.46|1993200.0|\n",
      "|84.53|01/07/2020|      0.0|84.71| 83.4|   A|83.42|1684700.0|\n",
      "|85.37|01/08/2020|      0.0|85.91|84.65|   A|85.41|1847600.0|\n",
      "|86.71|01/09/2020|      0.0|87.14|85.62|   A| 85.9|1912700.0|\n",
      "|87.03|01/10/2020|      0.0|87.67|86.76|   A|87.16|1417000.0|\n",
      "| 86.9|01/13/2020|      0.0|87.75|86.18|   A|87.25|1630200.0|\n",
      "|87.43|01/14/2020|      0.0|87.64|86.14|   A|86.71|1675200.0|\n",
      "|88.05|01/15/2020|      0.0|88.54|86.99|   A|87.07|1630400.0|\n",
      "+-----+----------+---------+-----+-----+----+-----+---------+\n",
      "only showing top 10 rows\n",
      "\n"
     ]
    }
   ],
   "source": [
    "stockspark.show(10)\n"
   ]
  },
  {
   "cell_type": "code",
   "execution_count": 6,
   "metadata": {},
   "outputs": [],
   "source": [
    "sectorjoin=stockspark.join(companyspark,stockspark.name==companyspark.Symbol).select(stockspark.date,companyspark.Symbol,stockspark.open,stockspark.close,stockspark.high,stockspark.low,stockspark.volume,stockspark.dividends,companyspark.Sector)"
   ]
  },
  {
   "cell_type": "code",
   "execution_count": 7,
   "metadata": {},
   "outputs": [
    {
     "name": "stdout",
     "output_type": "stream",
     "text": [
      "+----------+------+-----+-----+-----+-----+---------+---------+-----------+\n",
      "|      date|Symbol| open|close| high|  low|   volume|dividends|     Sector|\n",
      "+----------+------+-----+-----+-----+-----+---------+---------+-----------+\n",
      "|01/02/2020|     A|85.35| 85.4| 85.8|84.65|1410500.0|      0.0|Health Care|\n",
      "|01/03/2020|     A|84.13|84.03|84.78|83.96|1118300.0|      0.0|Health Care|\n",
      "|01/06/2020|     A|83.46|84.28|84.28|83.06|1993200.0|      0.0|Health Care|\n",
      "|01/07/2020|     A|83.42|84.53|84.71| 83.4|1684700.0|      0.0|Health Care|\n",
      "|01/08/2020|     A|85.41|85.37|85.91|84.65|1847600.0|      0.0|Health Care|\n",
      "+----------+------+-----+-----+-----+-----+---------+---------+-----------+\n",
      "only showing top 5 rows\n",
      "\n"
     ]
    }
   ],
   "source": [
    "sectorjoin.show(5)\n"
   ]
  },
  {
   "cell_type": "code",
   "execution_count": 8,
   "metadata": {},
   "outputs": [
    {
     "name": "stdout",
     "output_type": "stream",
     "text": [
      "+--------------------+\n",
      "|              Sector|\n",
      "+--------------------+\n",
      "|         Health Care|\n",
      "|Communication Ser...|\n",
      "|              Energy|\n",
      "|Information Techn...|\n",
      "|         Real Estate|\n",
      "|           Materials|\n",
      "|Consumer Discreti...|\n",
      "|           Utilities|\n",
      "|    Consumer Staples|\n",
      "|         Industrials|\n",
      "|          Financials|\n",
      "+--------------------+\n",
      "\n"
     ]
    }
   ],
   "source": [
    "sectorjoin[['Sector']].distinct().show()\n"
   ]
  },
  {
   "cell_type": "code",
   "execution_count": 15,
   "metadata": {},
   "outputs": [],
   "source": [
    "ind=[('Industrials',),\n",
    " ('Health Care',),\n",
    " ('Information Technology',),\n",
    " ('Communication Services',),\n",
    " ('Consumer Discretionary',),\n",
    " ('Utilities',),\n",
    " ('Financials',),\n",
    " ('Materials',),\n",
    " ('Real Estate',),\n",
    " ('Consumer Staples',),\n",
    " ('Energy',)]"
   ]
  },
  {
   "cell_type": "code",
   "execution_count": 9,
   "metadata": {},
   "outputs": [],
   "source": [
    "indu=sectorjoin[['Sector']].distinct()"
   ]
  },
  {
   "cell_type": "code",
   "execution_count": 10,
   "metadata": {},
   "outputs": [
    {
     "name": "stdout",
     "output_type": "stream",
     "text": [
      "+------+--------+\n",
      "|Symbol|2020HIGH|\n",
      "+------+--------+\n",
      "|  ALXN|  127.62|\n",
      "|   GIS|    65.2|\n",
      "|     K|   70.91|\n",
      "|   LEN|   84.68|\n",
      "|  SPGI|  378.41|\n",
      "|  ABMD|   317.0|\n",
      "|   AIV|   40.38|\n",
      "|   AVY|  152.35|\n",
      "|   RTX|     NaN|\n",
      "|   MMM|  176.37|\n",
      "|   PKI|   141.3|\n",
      "|   PPG|  142.82|\n",
      "|    RF|   16.48|\n",
      "|   AXP|  134.99|\n",
      "|   CDW|  143.95|\n",
      "|    CI|  222.51|\n",
      "|   IRM|   32.21|\n",
      "|   WEC|     NaN|\n",
      "|  INFO|   91.48|\n",
      "|   PFG|   54.92|\n",
      "+------+--------+\n",
      "only showing top 20 rows\n",
      "\n"
     ]
    }
   ],
   "source": [
    "#sectorjoin.groupBy(['Symbol','Sector','date']).agg({'close':'max'}).show()\n",
    "sectorjoin.groupBy(['Symbol']).agg(fc.max('close').alias('2020HIGH')).show()\n"
   ]
  },
  {
   "cell_type": "code",
   "execution_count": 13,
   "metadata": {},
   "outputs": [
    {
     "name": "stdout",
     "output_type": "stream",
     "text": [
      "+--------------------+------+-----------+----------+\n",
      "|              Sector|Symbol|Period_High|Period_Low|\n",
      "+--------------------+------+-----------+----------+\n",
      "|Communication Ser...|  NWSA|       17.2|      8.13|\n",
      "|Communication Ser...|  NFLX|     556.55|    298.84|\n",
      "|Communication Ser...|  TWTR|      52.43|      22.0|\n",
      "|Communication Ser...|   DIS|      148.2|     85.76|\n",
      "|Communication Ser...| DISCK|       30.6|     16.46|\n",
      "|Communication Ser...|  VIAC|      41.16|     11.19|\n",
      "|Communication Ser...|  GOOG|    1763.37|   1056.62|\n",
      "|Communication Ser...| GOOGL|     1762.5|   1054.13|\n",
      "|Communication Ser...|  TTWO|     177.52|    100.15|\n",
      "|Communication Ser...|   OMC|      77.85|      45.8|\n",
      "|Communication Ser...|    VZ|       61.1|     48.35|\n",
      "|Communication Ser...|   NWS|      17.24|      8.09|\n",
      "|Communication Ser...| DISCA|      32.77|     18.36|\n",
      "|Communication Ser...|  TMUS|     125.15|     74.32|\n",
      "|Communication Ser...|  ATVI|      86.84|     51.71|\n",
      "|Communication Ser...|   CTL|      14.17|      8.29|\n",
      "|Communication Ser...|    FB|     303.91|    146.01|\n",
      "|Communication Ser...|  DISH|      41.29|     18.15|\n",
      "|Communication Ser...|    EA|     146.95|     86.94|\n",
      "|Communication Ser...|   LYV|      76.08|      29.5|\n",
      "+--------------------+------+-----------+----------+\n",
      "only showing top 20 rows\n",
      "\n"
     ]
    }
   ],
   "source": [
    "\n",
    "sectorjoin.groupBy(['Sector','Symbol']).agg(fc.max('close').alias('Period_High'),fc.min('close').alias('Period_Low')).orderBy('Sector').show()\n",
    "\n"
   ]
  },
  {
   "cell_type": "code",
   "execution_count": null,
   "metadata": {},
   "outputs": [],
   "source": [
    "sectorjoin.groupBy(['Sector','Symbol']).agg(fc.max('close').alias('Period_High'),fc.min('close').alias('Period_Low')).orderBy('Sector').show()"
   ]
  },
  {
   "cell_type": "code",
   "execution_count": 21,
   "metadata": {
    "scrolled": true
   },
   "outputs": [
    {
     "name": "stdout",
     "output_type": "stream",
     "text": [
      "+------+-----------+-----------+----------+\n",
      "|Symbol|     Sector|Period_High|Period_Low|\n",
      "+------+-----------+-----------+----------+\n",
      "|  AMGN|Health Care|     259.21|    179.81|\n",
      "|  INCY|Health Care|     109.69|     63.18|\n",
      "|  REGN|Health Care|     658.21|    336.18|\n",
      "|   MCK|Health Care|     183.44|    115.13|\n",
      "|  ILMN|Health Care|     400.74|     209.2|\n",
      "+------+-----------+-----------+----------+\n",
      "only showing top 5 rows\n",
      "\n",
      "+------+--------------------+-----------+----------+\n",
      "|Symbol|              Sector|Period_High|Period_Low|\n",
      "+------+--------------------+-----------+----------+\n",
      "|  INTC|Information Techn...|      66.81|     43.74|\n",
      "|   DXC|Information Techn...|      36.05|      9.13|\n",
      "|   TXN|Information Techn...|     157.74|     91.48|\n",
      "|   XRX|Information Techn...|       36.6|     14.43|\n",
      "|  NVDA|Information Techn...|     582.48|    196.25|\n",
      "+------+--------------------+-----------+----------+\n",
      "only showing top 5 rows\n",
      "\n",
      "+------+--------------------+-----------+----------+\n",
      "|Symbol|              Sector|Period_High|Period_Low|\n",
      "+------+--------------------+-----------+----------+\n",
      "|  TWTR|Communication Ser...|      52.43|      22.0|\n",
      "|  CHTR|Communication Ser...|     651.72|     371.7|\n",
      "|   LYV|Communication Ser...|      76.08|      29.5|\n",
      "|    VZ|Communication Ser...|       61.1|     48.35|\n",
      "|  FOXA|Communication Ser...|      38.74|     20.03|\n",
      "+------+--------------------+-----------+----------+\n",
      "only showing top 5 rows\n",
      "\n",
      "+------+--------------------+-----------+----------+\n",
      "|Symbol|              Sector|Period_High|Period_Low|\n",
      "+------+--------------------+-----------+----------+\n",
      "|  GRMN|Consumer Discreti...|     115.27|     62.82|\n",
      "|   BBY|Consumer Discreti...|     123.06|     50.09|\n",
      "|   PVH|Consumer Discreti...|     106.11|     29.05|\n",
      "|   LVS|Consumer Discreti...|      72.61|     37.68|\n",
      "|   HLT|Consumer Discreti...|     113.75|     55.94|\n",
      "+------+--------------------+-----------+----------+\n",
      "only showing top 5 rows\n",
      "\n",
      "+------+---------+-----------+----------+\n",
      "|Symbol|   Sector|Period_High|Period_Low|\n",
      "+------+---------+-----------+----------+\n",
      "|   DUK|Utilities|        NaN|     62.06|\n",
      "|   SRE|Utilities|     156.65|     86.16|\n",
      "|   EIX|Utilities|      75.47|     42.92|\n",
      "|   CNP|Utilities|      26.45|      11.9|\n",
      "|   LNT|Utilities|      58.89|     39.14|\n",
      "+------+---------+-----------+----------+\n",
      "only showing top 5 rows\n",
      "\n",
      "+------+----------+-----------+----------+\n",
      "|Symbol|    Sector|Period_High|Period_Low|\n",
      "+------+----------+-----------+----------+\n",
      "|   MET|Financials|      50.49|     22.64|\n",
      "|   HIG|Financials|      59.86|     25.83|\n",
      "|  ZION|Financials|      50.53|     23.37|\n",
      "|   ICE|Financials|      106.2|     66.44|\n",
      "|  MSCI|Financials|        NaN|    223.26|\n",
      "+------+----------+-----------+----------+\n",
      "only showing top 5 rows\n",
      "\n",
      "+------+---------+-----------+----------+\n",
      "|Symbol|   Sector|Period_High|Period_Low|\n",
      "+------+---------+-----------+----------+\n",
      "|   ECL|Materials|     229.05|    124.64|\n",
      "|   MLM|Materials|     276.16|    143.32|\n",
      "|   IFF|Materials|     139.85|     92.42|\n",
      "|  CTVA|Materials|        NaN|     20.45|\n",
      "|   EMN|Materials|       93.4|      37.7|\n",
      "+------+---------+-----------+----------+\n",
      "only showing top 5 rows\n",
      "\n",
      "+------+-----------+-----------+----------+\n",
      "|Symbol|     Sector|Period_High|Period_Low|\n",
      "+------+-----------+-----------+----------+\n",
      "|   EQR|Real Estate|       84.3|     46.24|\n",
      "|   UDR|Real Estate|      49.41|     29.14|\n",
      "|   SLG|Real Estate|      91.05|     35.44|\n",
      "|   REG|Real Estate|      61.79|     31.31|\n",
      "|  SBAC|Real Estate|     323.35|    214.79|\n",
      "+------+-----------+-----------+----------+\n",
      "only showing top 5 rows\n",
      "\n",
      "+------+----------------+-----------+----------+\n",
      "|Symbol|          Sector|Period_High|Period_Low|\n",
      "+------+----------------+-----------+----------+\n",
      "|   WBA|Consumer Staples|      57.75|     33.52|\n",
      "|   KHC|Consumer Staples|      35.52|     19.58|\n",
      "|  MNST|Consumer Staples|      86.53|     50.97|\n",
      "|   STZ|Consumer Staples|     205.61|    104.26|\n",
      "|   TAP|Consumer Staples|      57.39|     32.65|\n",
      "+------+----------------+-----------+----------+\n",
      "only showing top 5 rows\n",
      "\n",
      "+------+------+-----------+----------+\n",
      "|Symbol|Sector|Period_High|Period_Low|\n",
      "+------+------+-----------+----------+\n",
      "|   MPC|Energy|      59.37|      16.1|\n",
      "|   PSX|Energy|     108.14|     40.97|\n",
      "|   NOV|Energy|      25.36|      8.01|\n",
      "|   OXY|Energy|       45.8|      8.88|\n",
      "|   PXD|Energy|     154.96|     55.64|\n",
      "+------+------+-----------+----------+\n",
      "only showing top 5 rows\n",
      "\n"
     ]
    }
   ],
   "source": [
    "health_care=sectorjoin[(sectorjoin.Sector=='Health Care')].groupBy(['Symbol','Sector']).agg(fc.max('close').alias('Period_High'),fc.min('close').alias('Period_Low'))\n",
    "health_care.show(5)\n",
    "information_technology=sectorjoin[(sectorjoin.Sector=='Information Technology')].groupBy(['Symbol','Sector']).agg(fc.max('close').alias('Period_High'),fc.min('close').alias('Period_Low'))\n",
    "information_technology.show(5)\n",
    "communication_services=sectorjoin[(sectorjoin.Sector=='Communication Services')].groupBy(['Symbol','Sector']).agg(fc.max('close').alias('Period_High'),fc.min('close').alias('Period_Low'))\n",
    "communication_services.show(5)\n",
    "consumer_discretionary=sectorjoin[(sectorjoin.Sector=='Consumer Discretionary')].groupBy(['Symbol','Sector']).agg(fc.max('close').alias('Period_High'),fc.min('close').alias('Period_Low'))\n",
    "consumer_discretionary.show(5)\n",
    "utilities=sectorjoin[(sectorjoin.Sector=='Utilities')].groupBy(['Symbol','Sector']).agg(fc.max('close').alias('Period_High'),fc.min('close').alias('Period_Low'))\n",
    "utilities.show(5)\n",
    "financials=sectorjoin[(sectorjoin.Sector=='Financials')].groupBy(['Symbol','Sector']).agg(fc.max('close').alias('Period_High'),fc.min('close').alias('Period_Low'))\n",
    "financials.show(5)\n",
    "materials=sectorjoin[(sectorjoin.Sector=='Materials')].groupBy(['Symbol','Sector']).agg(fc.max('close').alias('Period_High'),fc.min('close').alias('Period_Low'))\n",
    "materials.show(5)\n",
    "real_estate=sectorjoin[(sectorjoin.Sector=='Real Estate')].groupBy(['Symbol','Sector']).agg(fc.max('close').alias('Period_High'),fc.min('close').alias('Period_Low'))\n",
    "real_estate.show(5)\n",
    "consumer_staples=sectorjoin[(sectorjoin.Sector=='Consumer Staples')].groupBy(['Symbol','Sector']).agg(fc.max('close').alias('Period_High'),fc.min('close').alias('Period_Low'))\n",
    "consumer_staples.show(5)\n",
    "energy=sectorjoin[(sectorjoin.Sector=='Energy')].groupBy(['Symbol','Sector']).agg(fc.max('close').alias('Period_High'),fc.min('close').alias('Period_Low'))\n",
    "energy.show(5)"
   ]
  },
  {
   "cell_type": "code",
   "execution_count": 38,
   "metadata": {},
   "outputs": [
    {
     "name": "stdout",
     "output_type": "stream",
     "text": [
      "+------+-----------+-----------+----------+\n",
      "|Symbol|     Sector|Period_High|Period_Low|\n",
      "+------+-----------+-----------+----------+\n",
      "|  AMGN|Health Care|     259.21|    179.81|\n",
      "|  INCY|Health Care|     109.69|     63.18|\n",
      "|  REGN|Health Care|     658.21|    336.18|\n",
      "|   MCK|Health Care|     183.44|    115.13|\n",
      "|  ILMN|Health Care|     400.74|     209.2|\n",
      "|   CAH|Health Care|      58.65|      39.8|\n",
      "|  PRGO|Health Care|      60.07|     40.32|\n",
      "|  ALXN|Health Care|     127.62|     75.56|\n",
      "|   BSX|Health Care|      45.71|     25.83|\n",
      "|   STE|Health Care|     191.82|    107.23|\n",
      "|   MDT|Health Care|     119.08|     71.59|\n",
      "|   HUM|Health Care|     452.01|    213.29|\n",
      "|  ABBV|Health Care|      99.48|     61.94|\n",
      "|   SYK|Health Care|     234.35|    125.28|\n",
      "|   WST|Health Care|     301.49|    128.69|\n",
      "|    LH|Health Care|     214.42|    104.32|\n",
      "|   MYL|Health Care|      22.85|     13.26|\n",
      "|  HSIC|Health Care|      73.71|     43.18|\n",
      "|    CI|Health Care|     222.51|    130.06|\n",
      "|   ZTS|Health Care|     174.35|     92.27|\n",
      "+------+-----------+-----------+----------+\n",
      "only showing top 20 rows\n",
      "\n"
     ]
    }
   ],
   "source": [
    "sectorjoin[(sectorjoin.Sector=='Health Care')].groupBy(['Symbol','Sector']).agg(fc.max('close').alias('Period_High'),fc.min('close').alias('Period_Low')).show()\n",
    "\n"
   ]
  },
  {
   "cell_type": "code",
   "execution_count": 57,
   "metadata": {},
   "outputs": [
    {
     "name": "stdout",
     "output_type": "stream",
     "text": [
      "+------+-----------+----------+----------+\n",
      "|Symbol|Period_High|      date|Period_Low|\n",
      "+------+-----------+----------+----------+\n",
      "|   DGX|     129.37|08/03/2020|     72.08|\n",
      "|   TFX|        NaN|11/12/2020|    224.67|\n",
      "|   WST|     301.49|10/12/2020|    128.69|\n",
      "|   ZTS|     174.35|11/04/2020|     92.27|\n",
      "|  PRGO|      60.07|02/25/2020|     40.32|\n",
      "+------+-----------+----------+----------+\n",
      "only showing top 5 rows\n",
      "\n"
     ]
    }
   ],
   "source": [
    "n2.show(5)"
   ]
  },
  {
   "cell_type": "code",
   "execution_count": 142,
   "metadata": {},
   "outputs": [],
   "source": [
    "n1=sectorjoin[(sectorjoin.Sector=='Energy')].groupBy(['Symbol','Sector']).agg(fc.max('close').alias('Period_High'),fc.min('close').alias('Period_Low'))"
   ]
  },
  {
   "cell_type": "code",
   "execution_count": 143,
   "metadata": {},
   "outputs": [],
   "source": [
    "n2=n1.join(sectorjoin,sectorjoin.Symbol==n1.Symbol).filter(sectorjoin.close==n1.Period_High).select(sectorjoin.Sector,n1.Symbol,n1.Period_High,sectorjoin.date.alias('High_Date'),n1.Period_Low)\n",
    "\n",
    "n3=n1.join(sectorjoin,sectorjoin.Symbol==n1.Symbol).filter(sectorjoin.close==n1.Period_Low).select(sectorjoin.Sector,n1.Symbol,n1.Period_High,n1.Period_Low,sectorjoin.date.alias('Low_Date'))\n",
    "\n",
    "energytable=n2.join(n3,n3.Symbol==n2.Symbol).filter(n2.Period_High!= 'NaN').select(n2.Sector,n2.Symbol,n2.Period_High,n2.High_Date,n3.Period_Low,n3.Low_Date)"
   ]
  },
  {
   "cell_type": "code",
   "execution_count": 145,
   "metadata": {},
   "outputs": [
    {
     "name": "stdout",
     "output_type": "stream",
     "text": [
      "+------+------+-----------+----------+----------+----------+\n",
      "|Sector|Symbol|Period_High| High_Date|Period_Low|  Low_Date|\n",
      "+------+------+-----------+----------+----------+----------+\n",
      "|Energy|   OXY|       45.8|01/15/2020|      8.88|10/28/2020|\n",
      "+------+------+-----------+----------+----------+----------+\n",
      "only showing top 1 row\n",
      "\n"
     ]
    }
   ],
   "source": [
    "energytable.show(1)"
   ]
  },
  {
   "cell_type": "code",
   "execution_count": 85,
   "metadata": {},
   "outputs": [
    {
     "name": "stdout",
     "output_type": "stream",
     "text": [
      "+-----------+------+-----------+----------+----------+----------+\n",
      "|     Sector|Symbol|Period_High| High_Date|Period_Low|  Low_Date|\n",
      "+-----------+------+-----------+----------+----------+----------+\n",
      "|Health Care|  ALXN|     127.62|11/11/2020|     75.56|03/16/2020|\n",
      "|Health Care|  ABMD|      317.0|08/05/2020|    130.51|03/20/2020|\n",
      "|Health Care|   PKI|      141.3|11/06/2020|     66.57|03/16/2020|\n",
      "|Health Care|    CI|     222.51|02/12/2020|    130.06|03/23/2020|\n",
      "|Health Care|   STE|     191.82|10/12/2020|    107.23|03/23/2020|\n",
      "+-----------+------+-----------+----------+----------+----------+\n",
      "only showing top 5 rows\n",
      "\n"
     ]
    }
   ],
   "source": [
    "healthcaretable.show(5)"
   ]
  },
  {
   "cell_type": "code",
   "execution_count": null,
   "metadata": {},
   "outputs": [],
   "source": []
  },
  {
   "cell_type": "code",
   "execution_count": 89,
   "metadata": {},
   "outputs": [
    {
     "name": "stdout",
     "output_type": "stream",
     "text": [
      "+--------------------+------+-----------+----------+----------+----------+\n",
      "|              Sector|Symbol|Period_High| High_Date|Period_Low|  Low_Date|\n",
      "+--------------------+------+-----------+----------+----------+----------+\n",
      "|Information Techn...|   CDW|     143.95|11/09/2020|     79.01|03/20/2020|\n",
      "|Information Techn...|  FLIR|      58.06|02/13/2020|     25.31|03/20/2020|\n",
      "|Information Techn...|   FLT|     328.85|02/06/2020|    171.72|03/23/2020|\n",
      "|Information Techn...|  AAPL|     133.95|09/01/2020|     55.29|03/23/2020|\n",
      "|Information Techn...|  CSCO|      48.63|02/12/2020|     32.33|03/12/2020|\n",
      "+--------------------+------+-----------+----------+----------+----------+\n",
      "only showing top 5 rows\n",
      "\n"
     ]
    }
   ],
   "source": [
    "informationtechtable.show(5)"
   ]
  },
  {
   "cell_type": "code",
   "execution_count": 114,
   "metadata": {},
   "outputs": [
    {
     "name": "stdout",
     "output_type": "stream",
     "text": [
      "+-----------+------+-----------+----------+----------+----------+\n",
      "|     Sector|Symbol|Period_High| High_Date|Period_Low|  Low_Date|\n",
      "+-----------+------+-----------+----------+----------+----------+\n",
      "|Industrials|   MMM|     176.37|01/14/2020|    115.66|03/23/2020|\n",
      "|Industrials|  INFO|      91.48|11/11/2020|     45.09|03/23/2020|\n",
      "|Industrials|   SNA|     172.67|11/10/2020|     94.07|04/03/2020|\n",
      "|Industrials|   FTV|      70.33|11/09/2020|     35.08|03/23/2020|\n",
      "|Industrials|   ROP|     452.59|08/13/2020|    253.22|03/23/2020|\n",
      "+-----------+------+-----------+----------+----------+----------+\n",
      "only showing top 5 rows\n",
      "\n"
     ]
    }
   ],
   "source": [
    "industrialstable.show(5)"
   ]
  },
  {
   "cell_type": "code",
   "execution_count": 95,
   "metadata": {},
   "outputs": [
    {
     "name": "stdout",
     "output_type": "stream",
     "text": [
      "+--------------------+------+-----------+----------+----------+----------+\n",
      "|              Sector|Symbol|Period_High| High_Date|Period_Low|  Low_Date|\n",
      "+--------------------+------+-----------+----------+----------+----------+\n",
      "|Communication Ser...|    EA|     146.95|08/06/2020|     86.94|03/20/2020|\n",
      "|Communication Ser...|  TTWO|     177.52|08/04/2020|    100.15|03/20/2020|\n",
      "|Communication Ser...|  VIAC|      41.16|01/07/2020|     11.19|03/23/2020|\n",
      "|Communication Ser...|   DIS|      148.2|01/02/2020|     85.76|03/23/2020|\n",
      "|Communication Ser...|     T|      37.03|01/22/2020|     25.39|03/23/2020|\n",
      "+--------------------+------+-----------+----------+----------+----------+\n",
      "only showing top 5 rows\n",
      "\n"
     ]
    }
   ],
   "source": [
    "communicationservicetable.show(5)"
   ]
  },
  {
   "cell_type": "code",
   "execution_count": 117,
   "metadata": {},
   "outputs": [
    {
     "name": "stdout",
     "output_type": "stream",
     "text": [
      "+--------------------+------+-----------+----------+----------+----------+\n",
      "|              Sector|Symbol|Period_High| High_Date|Period_Low|  Low_Date|\n",
      "+--------------------+------+-----------+----------+----------+----------+\n",
      "|Consumer Discreti...|   LEN|      84.68|10/15/2020|     29.12|03/23/2020|\n",
      "|Consumer Discreti...|   LEN|      84.68|10/16/2020|     29.12|03/23/2020|\n",
      "|Consumer Discreti...|    UA|      19.27|01/03/2020|      6.89|04/02/2020|\n",
      "|Consumer Discreti...|  ULTA|     301.34|02/20/2020|    128.52|03/18/2020|\n",
      "|Consumer Discreti...|   HAS|     102.31|01/22/2020|     43.55|03/16/2020|\n",
      "+--------------------+------+-----------+----------+----------+----------+\n",
      "only showing top 5 rows\n",
      "\n"
     ]
    }
   ],
   "source": [
    "consumerdiscretionarytable.show(5)"
   ]
  },
  {
   "cell_type": "code",
   "execution_count": 120,
   "metadata": {},
   "outputs": [
    {
     "name": "stdout",
     "output_type": "stream",
     "text": [
      "+---------+------+-----------+----------+----------+----------+\n",
      "|   Sector|Symbol|Period_High| High_Date|Period_Low|  Low_Date|\n",
      "+---------+------+-----------+----------+----------+----------+\n",
      "|Utilities|   PNW|     100.56|02/21/2020|     61.07|03/23/2020|\n",
      "|Utilities|  EVRG|      72.06|02/19/2020|     44.11|03/23/2020|\n",
      "|Utilities|   CMS|      67.47|02/18/2020|     47.53|03/23/2020|\n",
      "|Utilities|    SO|      68.59|01/30/2020|     42.23|03/23/2020|\n",
      "|Utilities|   NEE|      77.54|11/11/2020|     44.94|03/23/2020|\n",
      "+---------+------+-----------+----------+----------+----------+\n",
      "only showing top 5 rows\n",
      "\n"
     ]
    }
   ],
   "source": [
    "utilitiestable.show(5)"
   ]
  },
  {
   "cell_type": "code",
   "execution_count": 125,
   "metadata": {},
   "outputs": [
    {
     "name": "stdout",
     "output_type": "stream",
     "text": [
      "+----------+------+-----------+----------+----------+----------+\n",
      "|    Sector|Symbol|Period_High| High_Date|Period_Low|  Low_Date|\n",
      "+----------+------+-----------+----------+----------+----------+\n",
      "|Financials|  SPGI|     378.41|09/02/2020|    191.28|03/23/2020|\n",
      "|Financials|    RF|      16.48|01/02/2020|      7.17|03/18/2020|\n",
      "|Financials|   AXP|     134.99|02/19/2020|     67.99|03/23/2020|\n",
      "|Financials|   PFG|      54.92|01/17/2020|     23.53|03/23/2020|\n",
      "|Financials|   BLK|     670.62|11/11/2020|    323.31|03/23/2020|\n",
      "|Financials|  TROW|      148.1|10/23/2020|     84.17|03/23/2020|\n",
      "|Financials|    RE|     285.64|02/13/2020|    159.37|05/14/2020|\n",
      "|Financials|   PRU|      92.62|01/17/2020|     37.84|03/23/2020|\n",
      "|Financials|   ALL|     123.54|02/14/2020|      72.4|03/23/2020|\n",
      "|Financials|    GL|      110.3|02/20/2020|      57.7|03/23/2020|\n",
      "|Financials|  MKTX|     580.57|11/05/2020|    280.36|03/23/2020|\n",
      "|Financials|   PNC|     154.39|01/09/2020|      78.0|03/23/2020|\n",
      "|Financials|   JPM|     136.15|01/02/2020|     76.75|03/23/2020|\n",
      "|Financials|  NTRS|     106.52|01/17/2020|     61.19|03/16/2020|\n",
      "|Financials|  CINF|     112.35|02/14/2020|      47.7|05/13/2020|\n",
      "|Financials|   WFC|      51.67|01/02/2020|     21.04|10/29/2020|\n",
      "|Financials|   AIG|      52.66|02/11/2020|     18.38|03/18/2020|\n",
      "|Financials|   AFL|      52.31|01/17/2020|     24.88|03/18/2020|\n",
      "|Financials|     L|      55.54|02/10/2020|     28.69|05/13/2020|\n",
      "|Financials|   TRV|     138.44|01/22/2020|     80.54|03/18/2020|\n",
      "+----------+------+-----------+----------+----------+----------+\n",
      "only showing top 20 rows\n",
      "\n"
     ]
    }
   ],
   "source": [
    "financialstable.show()"
   ]
  },
  {
   "cell_type": "code",
   "execution_count": 129,
   "metadata": {},
   "outputs": [
    {
     "name": "stdout",
     "output_type": "stream",
     "text": [
      "+---------+------+-----------+----------+----------+----------+\n",
      "|   Sector|Symbol|Period_High| High_Date|Period_Low|  Low_Date|\n",
      "+---------+------+-----------+----------+----------+----------+\n",
      "|Materials|   AVY|     152.35|11/09/2020|     77.95|03/23/2020|\n",
      "|Materials|   PPG|     142.82|11/10/2020|     71.46|03/23/2020|\n",
      "|Materials|   EMN|       93.4|11/10/2020|      37.7|03/23/2020|\n",
      "|Materials|   NUE|      53.44|01/02/2020|     27.56|03/23/2020|\n",
      "|Materials|   NEM|       70.1|08/05/2020|     39.18|03/13/2020|\n",
      "+---------+------+-----------+----------+----------+----------+\n",
      "only showing top 5 rows\n",
      "\n"
     ]
    }
   ],
   "source": [
    "materialstable.show(5)"
   ]
  },
  {
   "cell_type": "code",
   "execution_count": 73,
   "metadata": {},
   "outputs": [
    {
     "data": {
      "text/plain": [
       "[('Industrials',),\n",
       " ('Health Care',),\n",
       " ('Information Technology',),\n",
       " ('Communication Services',),\n",
       " ('Consumer Discretionary',),\n",
       " ('Utilities',),\n",
       " ('Financials',),\n",
       " ('Materials',),\n",
       " ('Real Estate',),\n",
       " ('Consumer Staples',),\n",
       " ('Energy',)]"
      ]
     },
     "execution_count": 73,
     "metadata": {},
     "output_type": "execute_result"
    }
   ],
   "source": [
    "ind"
   ]
  },
  {
   "cell_type": "code",
   "execution_count": 24,
   "metadata": {},
   "outputs": [],
   "source": [
    "health_care.coalesce(1).write.option(\"header\",\"true\").option(\"sep\",\",\").mode(\"overwrite\").csv(\"healthcare\")"
   ]
  },
  {
   "cell_type": "code",
   "execution_count": 25,
   "metadata": {},
   "outputs": [],
   "source": [
    "health_care.write.csv('health_care.csv')"
   ]
  },
  {
   "cell_type": "code",
   "execution_count": 12,
   "metadata": {},
   "outputs": [
    {
     "ename": "NameError",
     "evalue": "name 'new1' is not defined",
     "output_type": "error",
     "traceback": [
      "\u001b[0;31m---------------------------------------------------------------------------\u001b[0m",
      "\u001b[0;31mNameError\u001b[0m                                 Traceback (most recent call last)",
      "\u001b[0;32m<ipython-input-12-c8b70507187b>\u001b[0m in \u001b[0;36m<module>\u001b[0;34m\u001b[0m\n\u001b[0;32m----> 1\u001b[0;31m \u001b[0mnew1\u001b[0m\u001b[0;34m.\u001b[0m\u001b[0mfilter\u001b[0m\u001b[0;34m(\u001b[0m\u001b[0mnew1\u001b[0m\u001b[0;34m.\u001b[0m\u001b[0mSector\u001b[0m\u001b[0;34m==\u001b[0m\u001b[0;34m'Health Care'\u001b[0m\u001b[0;34m)\u001b[0m\u001b[0;34m.\u001b[0m\u001b[0mshow\u001b[0m\u001b[0;34m(\u001b[0m\u001b[0;34m)\u001b[0m\u001b[0;34m\u001b[0m\u001b[0;34m\u001b[0m\u001b[0m\n\u001b[0m",
      "\u001b[0;31mNameError\u001b[0m: name 'new1' is not defined"
     ]
    }
   ],
   "source": [
    "new1.filter(new1.Sector=='Health Care').show()"
   ]
  },
  {
   "cell_type": "code",
   "execution_count": null,
   "metadata": {},
   "outputs": [],
   "source": [
    "new1=sectorjoin[(sectorjoin.Sector=='Health Care')].groupBy(['Symbol','Sector']).agg(fc.max('close').alias('_2020HIGH'))\n"
   ]
  },
  {
   "cell_type": "code",
   "execution_count": null,
   "metadata": {},
   "outputs": [],
   "source": [
    "sectorjoin[(sectorjoin.Symbol=='RTX')].show()"
   ]
  },
  {
   "cell_type": "code",
   "execution_count": null,
   "metadata": {},
   "outputs": [],
   "source": [
    "new1.show()"
   ]
  },
  {
   "cell_type": "code",
   "execution_count": null,
   "metadata": {},
   "outputs": [],
   "source": [
    "new2=new1.join(sectorjoin,(new1.Symbol==sectorjoin.Symbol)).select(new1.Symbol,new1.Sector,sectorjoin.close,new1._2020HIGH,sectorjoin.date)\n"
   ]
  },
  {
   "cell_type": "code",
   "execution_count": null,
   "metadata": {},
   "outputs": [],
   "source": [
    "new2.show(5)"
   ]
  },
  {
   "cell_type": "code",
   "execution_count": 26,
   "metadata": {},
   "outputs": [],
   "source": [
    "connection = pymysql.connect(host='127.0.0.1',\n",
    "                             user='root',\n",
    "                             password='PApOEaPbJNOM62p1',\n",
    "                             db='stockdb'\n",
    "                            ,port=1234)"
   ]
  },
  {
   "cell_type": "code",
   "execution_count": 27,
   "metadata": {},
   "outputs": [],
   "source": [
    "cur = connection.cursor()"
   ]
  },
  {
   "cell_type": "code",
   "execution_count": 202,
   "metadata": {},
   "outputs": [
    {
     "data": {
      "text/plain": [
       "()"
      ]
     },
     "execution_count": 202,
     "metadata": {},
     "output_type": "execute_result"
    }
   ],
   "source": [
    "sql_code=('DROP TABLE Industry_Health_Care')\n",
    "cur.execute(sql_code)\n",
    "test1 = cur.fetchall()\n",
    "test1"
   ]
  },
  {
   "cell_type": "code",
   "execution_count": 149,
   "metadata": {},
   "outputs": [],
   "source": [
    "health_caredf = healthcaretable.select(\"*\").toPandas()\n",
    "energydf = energytable.select(\"*\").toPandas()\n",
    "informationtechdf=informationtechtable.select(\"*\").toPandas()\n",
    "industrialsdf=industrialstable.select(\"*\").toPandas()\n",
    "communicationservicedf=communicationservicetable.select(\"*\").toPandas()\n",
    "consumerdiscretionarydf=consumerdiscretionarytable.select(\"*\").toPandas()\n",
    "utilitiesdf=utilitiestable.select(\"*\").toPandas()\n",
    "financialsdf=financialstable.select(\"*\").toPandas()\n",
    "materialsdf=materialstable.select(\"*\").toPandas()\n",
    "realestatedf=realestatetable.select(\"*\").toPandas()\n",
    "consumerstaplesdf=consumerstaplestable.select(\"*\").toPandas()\n",
    "\n"
   ]
  },
  {
   "cell_type": "code",
   "execution_count": 193,
   "metadata": {},
   "outputs": [
    {
     "data": {
      "text/plain": [
       "Sector          object\n",
       "Symbol          object\n",
       "Period_High    float64\n",
       "High_Date       object\n",
       "Period_Low     float64\n",
       "Low_Date        object\n",
       "DateH           object\n",
       "DateL           object\n",
       "dtype: object"
      ]
     },
     "execution_count": 193,
     "metadata": {},
     "output_type": "execute_result"
    }
   ],
   "source": [
    "health_caredf.dtypes"
   ]
  },
  {
   "cell_type": "code",
   "execution_count": 191,
   "metadata": {},
   "outputs": [],
   "source": [
    "health_caredf['DateH']= health_caredf['High_Date'].astype(str)\n",
    "health_caredf['DateL']= health_caredf['Low_Date'].astype(str)\n",
    "    "
   ]
  },
  {
   "cell_type": "code",
   "execution_count": 167,
   "metadata": {},
   "outputs": [
    {
     "data": {
      "text/plain": [
       "Sector          object\n",
       "Symbol          object\n",
       "Period_High    float64\n",
       "High_Date       object\n",
       "Period_Low     float64\n",
       "Low_Date        object\n",
       "dtype: object"
      ]
     },
     "execution_count": 167,
     "metadata": {},
     "output_type": "execute_result"
    }
   ],
   "source": [
    "health_caredf.dtypes"
   ]
  },
  {
   "cell_type": "code",
   "execution_count": 179,
   "metadata": {},
   "outputs": [
    {
     "data": {
      "text/plain": [
       "Sector                 object\n",
       "Symbol                 object\n",
       "Period_High           float64\n",
       "High_Date              object\n",
       "Period_Low            float64\n",
       "Low_Date               object\n",
       "DateH          datetime64[ns]\n",
       "DateL          datetime64[ns]\n",
       "dtype: object"
      ]
     },
     "execution_count": 179,
     "metadata": {},
     "output_type": "execute_result"
    }
   ],
   "source": [
    "health_caredf.dtypes"
   ]
  },
  {
   "cell_type": "code",
   "execution_count": 219,
   "metadata": {},
   "outputs": [],
   "source": [
    "consumerdiscretionarytable.coalesce(1).write.option(\"header\",\"true\").option(\"sep\",\",\").mode(\"overwrite\").csv(\"consumerdiscre\")"
   ]
  },
  {
   "cell_type": "code",
   "execution_count": 203,
   "metadata": {},
   "outputs": [
    {
     "name": "stdout",
     "output_type": "stream",
     "text": [
      "03/16/2020\n",
      "03/20/2020\n",
      "03/16/2020\n",
      "03/23/2020\n",
      "03/23/2020\n",
      "03/23/2020\n",
      "04/03/2020\n",
      "03/23/2020\n",
      "03/23/2020\n",
      "03/18/2020\n",
      "10/30/2020\n",
      "03/23/2020\n",
      "03/12/2020\n",
      "03/23/2020\n",
      "03/23/2020\n",
      "03/12/2020\n",
      "03/23/2020\n",
      "03/23/2020\n",
      "03/18/2020\n",
      "03/23/2020\n",
      "03/23/2020\n",
      "03/23/2020\n",
      "03/23/2020\n",
      "03/23/2020\n",
      "03/23/2020\n",
      "03/16/2020\n",
      "03/18/2020\n",
      "03/23/2020\n",
      "03/23/2020\n",
      "03/20/2020\n",
      "03/20/2020\n",
      "03/23/2020\n",
      "03/23/2020\n",
      "03/23/2020\n",
      "03/23/2020\n",
      "03/23/2020\n",
      "03/12/2020\n",
      "03/23/2020\n",
      "03/23/2020\n",
      "03/23/2020\n",
      "03/23/2020\n",
      "03/23/2020\n",
      "03/23/2020\n",
      "03/23/2020\n",
      "03/23/2020\n",
      "03/16/2020\n",
      "03/23/2020\n",
      "03/23/2020\n",
      "01/30/2020\n"
     ]
    },
    {
     "ename": "KeyboardInterrupt",
     "evalue": "",
     "output_type": "error",
     "traceback": [
      "\u001b[0;31m---------------------------------------------------------------------------\u001b[0m",
      "\u001b[0;31mKeyboardInterrupt\u001b[0m                         Traceback (most recent call last)",
      "\u001b[0;32m<ipython-input-203-6a27351a3139>\u001b[0m in \u001b[0;36m<module>\u001b[0;34m\u001b[0m\n\u001b[1;32m     13\u001b[0m         \u001b[0mdatel\u001b[0m\u001b[0;34m=\u001b[0m\u001b[0mrow\u001b[0m\u001b[0;34m[\u001b[0m\u001b[0;36m1\u001b[0m\u001b[0;34m]\u001b[0m\u001b[0;34m[\u001b[0m\u001b[0;36m7\u001b[0m\u001b[0;34m]\u001b[0m\u001b[0;34m\u001b[0m\u001b[0;34m\u001b[0m\u001b[0m\n\u001b[1;32m     14\u001b[0m         \u001b[0mprint\u001b[0m\u001b[0;34m(\u001b[0m\u001b[0mdatel\u001b[0m\u001b[0;34m)\u001b[0m\u001b[0;34m\u001b[0m\u001b[0;34m\u001b[0m\u001b[0m\n\u001b[0;32m---> 15\u001b[0;31m         \u001b[0mcur\u001b[0m\u001b[0;34m.\u001b[0m\u001b[0mexecute\u001b[0m\u001b[0;34m(\u001b[0m\u001b[0;34mf\"INSERT INTO Industry_Health_Care (sector,symbol,periodhigh,datehigh,periodlow,datelow) VALUES ('{sector}','{symbol}', '{high}',{dateh},{low},{datel});\"\u001b[0m\u001b[0;34m)\u001b[0m\u001b[0;34m\u001b[0m\u001b[0;34m\u001b[0m\u001b[0m\n\u001b[0m\u001b[1;32m     16\u001b[0m \u001b[0;34m\u001b[0m\u001b[0m\n\u001b[1;32m     17\u001b[0m \u001b[0;32mexcept\u001b[0m \u001b[0mException\u001b[0m \u001b[0;32mas\u001b[0m \u001b[0me\u001b[0m\u001b[0;34m:\u001b[0m\u001b[0;34m\u001b[0m\u001b[0;34m\u001b[0m\u001b[0m\n",
      "\u001b[0;32m/opt/anaconda3/lib/python3.7/site-packages/pymysql/cursors.py\u001b[0m in \u001b[0;36mexecute\u001b[0;34m(self, query, args)\u001b[0m\n\u001b[1;32m    161\u001b[0m         \u001b[0mquery\u001b[0m \u001b[0;34m=\u001b[0m \u001b[0mself\u001b[0m\u001b[0;34m.\u001b[0m\u001b[0mmogrify\u001b[0m\u001b[0;34m(\u001b[0m\u001b[0mquery\u001b[0m\u001b[0;34m,\u001b[0m \u001b[0margs\u001b[0m\u001b[0;34m)\u001b[0m\u001b[0;34m\u001b[0m\u001b[0;34m\u001b[0m\u001b[0m\n\u001b[1;32m    162\u001b[0m \u001b[0;34m\u001b[0m\u001b[0m\n\u001b[0;32m--> 163\u001b[0;31m         \u001b[0mresult\u001b[0m \u001b[0;34m=\u001b[0m \u001b[0mself\u001b[0m\u001b[0;34m.\u001b[0m\u001b[0m_query\u001b[0m\u001b[0;34m(\u001b[0m\u001b[0mquery\u001b[0m\u001b[0;34m)\u001b[0m\u001b[0;34m\u001b[0m\u001b[0;34m\u001b[0m\u001b[0m\n\u001b[0m\u001b[1;32m    164\u001b[0m         \u001b[0mself\u001b[0m\u001b[0;34m.\u001b[0m\u001b[0m_executed\u001b[0m \u001b[0;34m=\u001b[0m \u001b[0mquery\u001b[0m\u001b[0;34m\u001b[0m\u001b[0;34m\u001b[0m\u001b[0m\n\u001b[1;32m    165\u001b[0m         \u001b[0;32mreturn\u001b[0m \u001b[0mresult\u001b[0m\u001b[0;34m\u001b[0m\u001b[0;34m\u001b[0m\u001b[0m\n",
      "\u001b[0;32m/opt/anaconda3/lib/python3.7/site-packages/pymysql/cursors.py\u001b[0m in \u001b[0;36m_query\u001b[0;34m(self, q)\u001b[0m\n\u001b[1;32m    319\u001b[0m         \u001b[0mself\u001b[0m\u001b[0;34m.\u001b[0m\u001b[0m_last_executed\u001b[0m \u001b[0;34m=\u001b[0m \u001b[0mq\u001b[0m\u001b[0;34m\u001b[0m\u001b[0;34m\u001b[0m\u001b[0m\n\u001b[1;32m    320\u001b[0m         \u001b[0mself\u001b[0m\u001b[0;34m.\u001b[0m\u001b[0m_clear_result\u001b[0m\u001b[0;34m(\u001b[0m\u001b[0;34m)\u001b[0m\u001b[0;34m\u001b[0m\u001b[0;34m\u001b[0m\u001b[0m\n\u001b[0;32m--> 321\u001b[0;31m         \u001b[0mconn\u001b[0m\u001b[0;34m.\u001b[0m\u001b[0mquery\u001b[0m\u001b[0;34m(\u001b[0m\u001b[0mq\u001b[0m\u001b[0;34m)\u001b[0m\u001b[0;34m\u001b[0m\u001b[0;34m\u001b[0m\u001b[0m\n\u001b[0m\u001b[1;32m    322\u001b[0m         \u001b[0mself\u001b[0m\u001b[0;34m.\u001b[0m\u001b[0m_do_get_result\u001b[0m\u001b[0;34m(\u001b[0m\u001b[0;34m)\u001b[0m\u001b[0;34m\u001b[0m\u001b[0;34m\u001b[0m\u001b[0m\n\u001b[1;32m    323\u001b[0m         \u001b[0;32mreturn\u001b[0m \u001b[0mself\u001b[0m\u001b[0;34m.\u001b[0m\u001b[0mrowcount\u001b[0m\u001b[0;34m\u001b[0m\u001b[0;34m\u001b[0m\u001b[0m\n",
      "\u001b[0;32m/opt/anaconda3/lib/python3.7/site-packages/pymysql/connections.py\u001b[0m in \u001b[0;36mquery\u001b[0;34m(self, sql, unbuffered)\u001b[0m\n\u001b[1;32m    503\u001b[0m                 \u001b[0msql\u001b[0m \u001b[0;34m=\u001b[0m \u001b[0msql\u001b[0m\u001b[0;34m.\u001b[0m\u001b[0mencode\u001b[0m\u001b[0;34m(\u001b[0m\u001b[0mself\u001b[0m\u001b[0;34m.\u001b[0m\u001b[0mencoding\u001b[0m\u001b[0;34m,\u001b[0m \u001b[0;34m'surrogateescape'\u001b[0m\u001b[0;34m)\u001b[0m\u001b[0;34m\u001b[0m\u001b[0;34m\u001b[0m\u001b[0m\n\u001b[1;32m    504\u001b[0m         \u001b[0mself\u001b[0m\u001b[0;34m.\u001b[0m\u001b[0m_execute_command\u001b[0m\u001b[0;34m(\u001b[0m\u001b[0mCOMMAND\u001b[0m\u001b[0;34m.\u001b[0m\u001b[0mCOM_QUERY\u001b[0m\u001b[0;34m,\u001b[0m \u001b[0msql\u001b[0m\u001b[0;34m)\u001b[0m\u001b[0;34m\u001b[0m\u001b[0;34m\u001b[0m\u001b[0m\n\u001b[0;32m--> 505\u001b[0;31m         \u001b[0mself\u001b[0m\u001b[0;34m.\u001b[0m\u001b[0m_affected_rows\u001b[0m \u001b[0;34m=\u001b[0m \u001b[0mself\u001b[0m\u001b[0;34m.\u001b[0m\u001b[0m_read_query_result\u001b[0m\u001b[0;34m(\u001b[0m\u001b[0munbuffered\u001b[0m\u001b[0;34m=\u001b[0m\u001b[0munbuffered\u001b[0m\u001b[0;34m)\u001b[0m\u001b[0;34m\u001b[0m\u001b[0;34m\u001b[0m\u001b[0m\n\u001b[0m\u001b[1;32m    506\u001b[0m         \u001b[0;32mreturn\u001b[0m \u001b[0mself\u001b[0m\u001b[0;34m.\u001b[0m\u001b[0m_affected_rows\u001b[0m\u001b[0;34m\u001b[0m\u001b[0;34m\u001b[0m\u001b[0m\n\u001b[1;32m    507\u001b[0m \u001b[0;34m\u001b[0m\u001b[0m\n",
      "\u001b[0;32m/opt/anaconda3/lib/python3.7/site-packages/pymysql/connections.py\u001b[0m in \u001b[0;36m_read_query_result\u001b[0;34m(self, unbuffered)\u001b[0m\n\u001b[1;32m    722\u001b[0m         \u001b[0;32melse\u001b[0m\u001b[0;34m:\u001b[0m\u001b[0;34m\u001b[0m\u001b[0;34m\u001b[0m\u001b[0m\n\u001b[1;32m    723\u001b[0m             \u001b[0mresult\u001b[0m \u001b[0;34m=\u001b[0m \u001b[0mMySQLResult\u001b[0m\u001b[0;34m(\u001b[0m\u001b[0mself\u001b[0m\u001b[0;34m)\u001b[0m\u001b[0;34m\u001b[0m\u001b[0;34m\u001b[0m\u001b[0m\n\u001b[0;32m--> 724\u001b[0;31m             \u001b[0mresult\u001b[0m\u001b[0;34m.\u001b[0m\u001b[0mread\u001b[0m\u001b[0;34m(\u001b[0m\u001b[0;34m)\u001b[0m\u001b[0;34m\u001b[0m\u001b[0;34m\u001b[0m\u001b[0m\n\u001b[0m\u001b[1;32m    725\u001b[0m         \u001b[0mself\u001b[0m\u001b[0;34m.\u001b[0m\u001b[0m_result\u001b[0m \u001b[0;34m=\u001b[0m \u001b[0mresult\u001b[0m\u001b[0;34m\u001b[0m\u001b[0;34m\u001b[0m\u001b[0m\n\u001b[1;32m    726\u001b[0m         \u001b[0;32mif\u001b[0m \u001b[0mresult\u001b[0m\u001b[0;34m.\u001b[0m\u001b[0mserver_status\u001b[0m \u001b[0;32mis\u001b[0m \u001b[0;32mnot\u001b[0m \u001b[0;32mNone\u001b[0m\u001b[0;34m:\u001b[0m\u001b[0;34m\u001b[0m\u001b[0;34m\u001b[0m\u001b[0m\n",
      "\u001b[0;32m/opt/anaconda3/lib/python3.7/site-packages/pymysql/connections.py\u001b[0m in \u001b[0;36mread\u001b[0;34m(self)\u001b[0m\n\u001b[1;32m   1067\u001b[0m     \u001b[0;32mdef\u001b[0m \u001b[0mread\u001b[0m\u001b[0;34m(\u001b[0m\u001b[0mself\u001b[0m\u001b[0;34m)\u001b[0m\u001b[0;34m:\u001b[0m\u001b[0;34m\u001b[0m\u001b[0;34m\u001b[0m\u001b[0m\n\u001b[1;32m   1068\u001b[0m         \u001b[0;32mtry\u001b[0m\u001b[0;34m:\u001b[0m\u001b[0;34m\u001b[0m\u001b[0;34m\u001b[0m\u001b[0m\n\u001b[0;32m-> 1069\u001b[0;31m             \u001b[0mfirst_packet\u001b[0m \u001b[0;34m=\u001b[0m \u001b[0mself\u001b[0m\u001b[0;34m.\u001b[0m\u001b[0mconnection\u001b[0m\u001b[0;34m.\u001b[0m\u001b[0m_read_packet\u001b[0m\u001b[0;34m(\u001b[0m\u001b[0;34m)\u001b[0m\u001b[0;34m\u001b[0m\u001b[0;34m\u001b[0m\u001b[0m\n\u001b[0m\u001b[1;32m   1070\u001b[0m \u001b[0;34m\u001b[0m\u001b[0m\n\u001b[1;32m   1071\u001b[0m             \u001b[0;32mif\u001b[0m \u001b[0mfirst_packet\u001b[0m\u001b[0;34m.\u001b[0m\u001b[0mis_ok_packet\u001b[0m\u001b[0;34m(\u001b[0m\u001b[0;34m)\u001b[0m\u001b[0;34m:\u001b[0m\u001b[0;34m\u001b[0m\u001b[0;34m\u001b[0m\u001b[0m\n",
      "\u001b[0;32m/opt/anaconda3/lib/python3.7/site-packages/pymysql/connections.py\u001b[0m in \u001b[0;36m_read_packet\u001b[0;34m(self, packet_type)\u001b[0m\n\u001b[1;32m    644\u001b[0m         \u001b[0mbuff\u001b[0m \u001b[0;34m=\u001b[0m \u001b[0mbytearray\u001b[0m\u001b[0;34m(\u001b[0m\u001b[0;34m)\u001b[0m\u001b[0;34m\u001b[0m\u001b[0;34m\u001b[0m\u001b[0m\n\u001b[1;32m    645\u001b[0m         \u001b[0;32mwhile\u001b[0m \u001b[0;32mTrue\u001b[0m\u001b[0;34m:\u001b[0m\u001b[0;34m\u001b[0m\u001b[0;34m\u001b[0m\u001b[0m\n\u001b[0;32m--> 646\u001b[0;31m             \u001b[0mpacket_header\u001b[0m \u001b[0;34m=\u001b[0m \u001b[0mself\u001b[0m\u001b[0;34m.\u001b[0m\u001b[0m_read_bytes\u001b[0m\u001b[0;34m(\u001b[0m\u001b[0;36m4\u001b[0m\u001b[0;34m)\u001b[0m\u001b[0;34m\u001b[0m\u001b[0;34m\u001b[0m\u001b[0m\n\u001b[0m\u001b[1;32m    647\u001b[0m             \u001b[0;31m#if DEBUG: dump_packet(packet_header)\u001b[0m\u001b[0;34m\u001b[0m\u001b[0;34m\u001b[0m\u001b[0;34m\u001b[0m\u001b[0m\n\u001b[1;32m    648\u001b[0m \u001b[0;34m\u001b[0m\u001b[0m\n",
      "\u001b[0;32m/opt/anaconda3/lib/python3.7/site-packages/pymysql/connections.py\u001b[0m in \u001b[0;36m_read_bytes\u001b[0;34m(self, num_bytes)\u001b[0m\n\u001b[1;32m    681\u001b[0m         \u001b[0;32mwhile\u001b[0m \u001b[0;32mTrue\u001b[0m\u001b[0;34m:\u001b[0m\u001b[0;34m\u001b[0m\u001b[0;34m\u001b[0m\u001b[0m\n\u001b[1;32m    682\u001b[0m             \u001b[0;32mtry\u001b[0m\u001b[0;34m:\u001b[0m\u001b[0;34m\u001b[0m\u001b[0;34m\u001b[0m\u001b[0m\n\u001b[0;32m--> 683\u001b[0;31m                 \u001b[0mdata\u001b[0m \u001b[0;34m=\u001b[0m \u001b[0mself\u001b[0m\u001b[0;34m.\u001b[0m\u001b[0m_rfile\u001b[0m\u001b[0;34m.\u001b[0m\u001b[0mread\u001b[0m\u001b[0;34m(\u001b[0m\u001b[0mnum_bytes\u001b[0m\u001b[0;34m)\u001b[0m\u001b[0;34m\u001b[0m\u001b[0;34m\u001b[0m\u001b[0m\n\u001b[0m\u001b[1;32m    684\u001b[0m                 \u001b[0;32mbreak\u001b[0m\u001b[0;34m\u001b[0m\u001b[0;34m\u001b[0m\u001b[0m\n\u001b[1;32m    685\u001b[0m             \u001b[0;32mexcept\u001b[0m \u001b[0;34m(\u001b[0m\u001b[0mIOError\u001b[0m\u001b[0;34m,\u001b[0m \u001b[0mOSError\u001b[0m\u001b[0;34m)\u001b[0m \u001b[0;32mas\u001b[0m \u001b[0me\u001b[0m\u001b[0;34m:\u001b[0m\u001b[0;34m\u001b[0m\u001b[0;34m\u001b[0m\u001b[0m\n",
      "\u001b[0;32m/opt/anaconda3/lib/python3.7/socket.py\u001b[0m in \u001b[0;36mreadinto\u001b[0;34m(self, b)\u001b[0m\n\u001b[1;32m    587\u001b[0m         \u001b[0;32mwhile\u001b[0m \u001b[0;32mTrue\u001b[0m\u001b[0;34m:\u001b[0m\u001b[0;34m\u001b[0m\u001b[0;34m\u001b[0m\u001b[0m\n\u001b[1;32m    588\u001b[0m             \u001b[0;32mtry\u001b[0m\u001b[0;34m:\u001b[0m\u001b[0;34m\u001b[0m\u001b[0;34m\u001b[0m\u001b[0m\n\u001b[0;32m--> 589\u001b[0;31m                 \u001b[0;32mreturn\u001b[0m \u001b[0mself\u001b[0m\u001b[0;34m.\u001b[0m\u001b[0m_sock\u001b[0m\u001b[0;34m.\u001b[0m\u001b[0mrecv_into\u001b[0m\u001b[0;34m(\u001b[0m\u001b[0mb\u001b[0m\u001b[0;34m)\u001b[0m\u001b[0;34m\u001b[0m\u001b[0;34m\u001b[0m\u001b[0m\n\u001b[0m\u001b[1;32m    590\u001b[0m             \u001b[0;32mexcept\u001b[0m \u001b[0mtimeout\u001b[0m\u001b[0;34m:\u001b[0m\u001b[0;34m\u001b[0m\u001b[0;34m\u001b[0m\u001b[0m\n\u001b[1;32m    591\u001b[0m                 \u001b[0mself\u001b[0m\u001b[0;34m.\u001b[0m\u001b[0m_timeout_occurred\u001b[0m \u001b[0;34m=\u001b[0m \u001b[0;32mTrue\u001b[0m\u001b[0;34m\u001b[0m\u001b[0;34m\u001b[0m\u001b[0m\n",
      "\u001b[0;31mKeyboardInterrupt\u001b[0m: "
     ]
    }
   ],
   "source": [
    "#for row in health_caredf.iterrows():\n",
    "try:\n",
    "    cur.execute(\"CREATE TABLE Industry_Health_Care (sector varchar(250),symbol varchar(250),periodhigh varchar(250),datehigh text,periodlow varchar(250),datelow text)\")\n",
    "    #health_caredf['DateH']= pd.to_datetime(health_caredf.High_Date)\n",
    "    #health_caredf['DateL']= pd.to_datetime(health_caredf.Low_Date)\n",
    "    for row in health_caredf.iterrows():\n",
    "        idx = row[0]\n",
    "        sector = row[1][0]\n",
    "        symbol = row[1][1]\n",
    "        high = row[1][2]\n",
    "        dateh=row[1][6]\n",
    "        low=row[1][4]\n",
    "        datel=row[1][7]\n",
    "        print(datel)\n",
    "        cur.execute(f\"INSERT INTO Industry_Health_Care (sector,symbol,periodhigh,datehigh,periodlow,datelow) VALUES ('{sector}','{symbol}', '{high}',{dateh},{low},{datel});\")\n",
    "\n",
    "except Exception as e:\n",
    "    print(e)"
   ]
  },
  {
   "cell_type": "code",
   "execution_count": 30,
   "metadata": {},
   "outputs": [
    {
     "data": {
      "text/html": [
       "<div>\n",
       "<style scoped>\n",
       "    .dataframe tbody tr th:only-of-type {\n",
       "        vertical-align: middle;\n",
       "    }\n",
       "\n",
       "    .dataframe tbody tr th {\n",
       "        vertical-align: top;\n",
       "    }\n",
       "\n",
       "    .dataframe thead th {\n",
       "        text-align: right;\n",
       "    }\n",
       "</style>\n",
       "<table border=\"1\" class=\"dataframe\">\n",
       "  <thead>\n",
       "    <tr style=\"text-align: right;\">\n",
       "      <th></th>\n",
       "      <th>Symbol</th>\n",
       "      <th>Sector</th>\n",
       "      <th>Period_High</th>\n",
       "      <th>Period_Low</th>\n",
       "    </tr>\n",
       "  </thead>\n",
       "  <tbody>\n",
       "    <tr>\n",
       "      <th>0</th>\n",
       "      <td>AMGN</td>\n",
       "      <td>Health Care</td>\n",
       "      <td>259.21</td>\n",
       "      <td>179.81</td>\n",
       "    </tr>\n",
       "    <tr>\n",
       "      <th>1</th>\n",
       "      <td>INCY</td>\n",
       "      <td>Health Care</td>\n",
       "      <td>109.69</td>\n",
       "      <td>63.18</td>\n",
       "    </tr>\n",
       "    <tr>\n",
       "      <th>2</th>\n",
       "      <td>REGN</td>\n",
       "      <td>Health Care</td>\n",
       "      <td>658.21</td>\n",
       "      <td>336.18</td>\n",
       "    </tr>\n",
       "    <tr>\n",
       "      <th>3</th>\n",
       "      <td>MCK</td>\n",
       "      <td>Health Care</td>\n",
       "      <td>183.44</td>\n",
       "      <td>115.13</td>\n",
       "    </tr>\n",
       "    <tr>\n",
       "      <th>4</th>\n",
       "      <td>ILMN</td>\n",
       "      <td>Health Care</td>\n",
       "      <td>400.74</td>\n",
       "      <td>209.20</td>\n",
       "    </tr>\n",
       "    <tr>\n",
       "      <th>...</th>\n",
       "      <td>...</td>\n",
       "      <td>...</td>\n",
       "      <td>...</td>\n",
       "      <td>...</td>\n",
       "    </tr>\n",
       "    <tr>\n",
       "      <th>57</th>\n",
       "      <td>XRAY</td>\n",
       "      <td>Health Care</td>\n",
       "      <td>60.28</td>\n",
       "      <td>31.66</td>\n",
       "    </tr>\n",
       "    <tr>\n",
       "      <th>58</th>\n",
       "      <td>WAT</td>\n",
       "      <td>Health Care</td>\n",
       "      <td>244.09</td>\n",
       "      <td>162.36</td>\n",
       "    </tr>\n",
       "    <tr>\n",
       "      <th>59</th>\n",
       "      <td>ABC</td>\n",
       "      <td>Health Care</td>\n",
       "      <td>110.08</td>\n",
       "      <td>73.26</td>\n",
       "    </tr>\n",
       "    <tr>\n",
       "      <th>60</th>\n",
       "      <td>DGX</td>\n",
       "      <td>Health Care</td>\n",
       "      <td>129.37</td>\n",
       "      <td>72.08</td>\n",
       "    </tr>\n",
       "    <tr>\n",
       "      <th>61</th>\n",
       "      <td>ANTM</td>\n",
       "      <td>Health Care</td>\n",
       "      <td>328.56</td>\n",
       "      <td>173.51</td>\n",
       "    </tr>\n",
       "  </tbody>\n",
       "</table>\n",
       "<p>62 rows × 4 columns</p>\n",
       "</div>"
      ],
      "text/plain": [
       "   Symbol       Sector  Period_High  Period_Low\n",
       "0    AMGN  Health Care       259.21      179.81\n",
       "1    INCY  Health Care       109.69       63.18\n",
       "2    REGN  Health Care       658.21      336.18\n",
       "3     MCK  Health Care       183.44      115.13\n",
       "4    ILMN  Health Care       400.74      209.20\n",
       "..    ...          ...          ...         ...\n",
       "57   XRAY  Health Care        60.28       31.66\n",
       "58    WAT  Health Care       244.09      162.36\n",
       "59    ABC  Health Care       110.08       73.26\n",
       "60    DGX  Health Care       129.37       72.08\n",
       "61   ANTM  Health Care       328.56      173.51\n",
       "\n",
       "[62 rows x 4 columns]"
      ]
     },
     "execution_count": 30,
     "metadata": {},
     "output_type": "execute_result"
    }
   ],
   "source": [
    "result_pdf"
   ]
  },
  {
   "cell_type": "code",
   "execution_count": null,
   "metadata": {},
   "outputs": [],
   "source": []
  }
 ],
 "metadata": {
  "kernelspec": {
   "display_name": "Python 3",
   "language": "python",
   "name": "python3"
  },
  "language_info": {
   "codemirror_mode": {
    "name": "ipython",
    "version": 3
   },
   "file_extension": ".py",
   "mimetype": "text/x-python",
   "name": "python",
   "nbconvert_exporter": "python",
   "pygments_lexer": "ipython3",
   "version": "3.7.6"
  }
 },
 "nbformat": 4,
 "nbformat_minor": 4
}
