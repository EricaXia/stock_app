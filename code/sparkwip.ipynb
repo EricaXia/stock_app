{
 "cells": [
  {
   "cell_type": "code",
   "execution_count": 1,
   "metadata": {},
   "outputs": [],
   "source": [
    "import datetime\n",
    "\n",
    "import csv\n",
    "\n",
    "import pandas as pd\n",
    "\n",
    "from sqlalchemy import create_engine\n",
    "\n",
    "import yfinance as yf \n",
    "\n",
    "from bs4 import BeautifulSoup\n",
    "\n",
    "import requests\n",
    "\n",
    "from pyspark.sql import SparkSession\n",
    "\n",
    "import pyspark\n",
    "\n",
    "from pyspark.context import SparkContext\n",
    "\n",
    "import pyspark.sql.functions as fc\n",
    "\n",
    "import pymysql\n",
    "\n",
    "from pyspark.sql import Row\n",
    "\n",
    "from pyspark.sql.types import *\n",
    "\n",
    "import json\n",
    "\n",
    "import numpy as np"
   ]
  },
  {
   "cell_type": "code",
   "execution_count": 2,
   "metadata": {},
   "outputs": [],
   "source": [
    "sc = SparkContext.getOrCreate()\n",
    "\n",
    "spark = SparkSession(sc)"
   ]
  },
  {
   "cell_type": "code",
   "execution_count": 3,
   "metadata": {},
   "outputs": [],
   "source": [
    "stockspark = spark.read.json('stockdata.json')\n",
    "\n",
    "companyspark = spark.read.json('companyinfo.json')"
   ]
  },
  {
   "cell_type": "code",
   "execution_count": 6,
   "metadata": {},
   "outputs": [
    {
     "name": "stdout",
     "output_type": "stream",
     "text": [
      "+--------------------+--------------------+------+\n",
      "|                Name|              Sector|Symbol|\n",
      "+--------------------+--------------------+------+\n",
      "|Agilent Technolog...|         Health Care|     A|\n",
      "|American Airlines...|         Industrials|   AAL|\n",
      "|  Advance Auto Parts|Consumer Discreti...|   AAP|\n",
      "|          Apple Inc.|Information Techn...|  AAPL|\n",
      "|         AbbVie Inc.|         Health Care|  ABBV|\n",
      "|AmerisourceBergen...|         Health Care|   ABC|\n",
      "|         ABIOMED Inc|         Health Care|  ABMD|\n",
      "| Abbott Laboratories|         Health Care|   ABT|\n",
      "|       Accenture plc|Information Techn...|   ACN|\n",
      "|          Adobe Inc.|Information Techn...|  ADBE|\n",
      "+--------------------+--------------------+------+\n",
      "only showing top 10 rows\n",
      "\n"
     ]
    }
   ],
   "source": [
    "companyspark.show(10)"
   ]
  },
  {
   "cell_type": "code",
   "execution_count": 7,
   "metadata": {},
   "outputs": [
    {
     "name": "stdout",
     "output_type": "stream",
     "text": [
      "+-----+----------+---------+-----+-----+----+-----+---------+\n",
      "|close|      date|dividends| high|  low|name| open|   volume|\n",
      "+-----+----------+---------+-----+-----+----+-----+---------+\n",
      "| 85.4|01/02/2020|      0.0| 85.8|84.65|   A|85.35|1410500.0|\n",
      "|84.03|01/03/2020|      0.0|84.78|83.96|   A|84.13|1118300.0|\n",
      "|84.28|01/06/2020|      0.0|84.28|83.06|   A|83.46|1993200.0|\n",
      "|84.53|01/07/2020|      0.0|84.71| 83.4|   A|83.42|1684700.0|\n",
      "|85.37|01/08/2020|      0.0|85.91|84.65|   A|85.41|1847600.0|\n",
      "|86.71|01/09/2020|      0.0|87.14|85.62|   A| 85.9|1912700.0|\n",
      "|87.03|01/10/2020|      0.0|87.67|86.76|   A|87.16|1417000.0|\n",
      "| 86.9|01/13/2020|      0.0|87.75|86.18|   A|87.25|1630200.0|\n",
      "|87.43|01/14/2020|      0.0|87.64|86.14|   A|86.71|1675200.0|\n",
      "|88.05|01/15/2020|      0.0|88.54|86.99|   A|87.07|1630400.0|\n",
      "+-----+----------+---------+-----+-----+----+-----+---------+\n",
      "only showing top 10 rows\n",
      "\n"
     ]
    }
   ],
   "source": [
    "stockspark.show(10)"
   ]
  },
  {
   "cell_type": "code",
   "execution_count": 8,
   "metadata": {},
   "outputs": [],
   "source": [
    "sectorjoin=stockspark.join(companyspark,stockspark.name==companyspark.Symbol).select(stockspark.date,companyspark.Symbol,stockspark.open,stockspark.close,stockspark.high,stockspark.low,stockspark.volume,stockspark.dividends,companyspark.Sector)"
   ]
  },
  {
   "cell_type": "code",
   "execution_count": 9,
   "metadata": {},
   "outputs": [
    {
     "name": "stdout",
     "output_type": "stream",
     "text": [
      "+----------+------+-----+-----+-----+-----+---------+---------+-----------+\n",
      "|      date|Symbol| open|close| high|  low|   volume|dividends|     Sector|\n",
      "+----------+------+-----+-----+-----+-----+---------+---------+-----------+\n",
      "|01/02/2020|     A|85.35| 85.4| 85.8|84.65|1410500.0|      0.0|Health Care|\n",
      "|01/03/2020|     A|84.13|84.03|84.78|83.96|1118300.0|      0.0|Health Care|\n",
      "|01/06/2020|     A|83.46|84.28|84.28|83.06|1993200.0|      0.0|Health Care|\n",
      "|01/07/2020|     A|83.42|84.53|84.71| 83.4|1684700.0|      0.0|Health Care|\n",
      "|01/08/2020|     A|85.41|85.37|85.91|84.65|1847600.0|      0.0|Health Care|\n",
      "|01/09/2020|     A| 85.9|86.71|87.14|85.62|1912700.0|      0.0|Health Care|\n",
      "|01/10/2020|     A|87.16|87.03|87.67|86.76|1417000.0|      0.0|Health Care|\n",
      "|01/13/2020|     A|87.25| 86.9|87.75|86.18|1630200.0|      0.0|Health Care|\n",
      "|01/14/2020|     A|86.71|87.43|87.64|86.14|1675200.0|      0.0|Health Care|\n",
      "|01/15/2020|     A|87.07|88.05|88.54|86.99|1630400.0|      0.0|Health Care|\n",
      "|01/16/2020|     A|88.55|88.89|88.92|88.29|1595900.0|      0.0|Health Care|\n",
      "|01/17/2020|     A|89.39|89.54| 89.7|88.64|3718300.0|      0.0|Health Care|\n",
      "|01/21/2020|     A|89.22|89.03|89.57|88.89|2697400.0|      0.0|Health Care|\n",
      "|01/22/2020|     A|89.36|89.55|90.06|89.26|1665800.0|      0.0|Health Care|\n",
      "|01/23/2020|     A|89.04| 88.5| 89.4|88.09|1228300.0|      0.0|Health Care|\n",
      "|01/24/2020|     A|88.88|87.69|88.89|87.02|1164500.0|      0.0|Health Care|\n",
      "|01/27/2020|     A|85.98| 86.0|86.61|85.66|1868000.0|      0.0|Health Care|\n",
      "|01/28/2020|     A|86.29|86.62|86.92|85.64|1652200.0|      0.0|Health Care|\n",
      "|01/29/2020|     A|86.99|86.68|87.79|86.59|1131500.0|      0.0|Health Care|\n",
      "|01/30/2020|     A|84.35|83.84|84.48|83.06|3026700.0|      0.0|Health Care|\n",
      "+----------+------+-----+-----+-----+-----+---------+---------+-----------+\n",
      "only showing top 20 rows\n",
      "\n"
     ]
    }
   ],
   "source": [
    "sectorjoin.show()"
   ]
  },
  {
   "cell_type": "code",
   "execution_count": null,
   "metadata": {},
   "outputs": [],
   "source": []
  }
 ],
 "metadata": {
  "kernelspec": {
   "display_name": "Python 3",
   "language": "python",
   "name": "python3"
  },
  "language_info": {
   "codemirror_mode": {
    "name": "ipython",
    "version": 3
   },
   "file_extension": ".py",
   "mimetype": "text/x-python",
   "name": "python",
   "nbconvert_exporter": "python",
   "pygments_lexer": "ipython3",
   "version": "3.7.6"
  }
 },
 "nbformat": 4,
 "nbformat_minor": 4
}
