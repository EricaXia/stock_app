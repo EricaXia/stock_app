{
 "cells": [
  {
   "cell_type": "code",
   "execution_count": 1,
   "metadata": {},
   "outputs": [],
   "source": [
    "import datetime\n",
    "\n",
    "import csv\n",
    "\n",
    "import pandas as pd\n",
    "\n",
    "from sqlalchemy import create_engine\n",
    "\n",
    "import yfinance as yf \n",
    "\n",
    "from bs4 import BeautifulSoup\n",
    "\n",
    "import requests\n",
    "\n",
    "from pyspark.sql import SparkSession\n",
    "\n",
    "import pyspark\n",
    "\n",
    "from pyspark.context import SparkContext\n",
    "\n",
    "import pyspark.sql.functions as fc\n",
    "\n",
    "import pymysql\n",
    "\n",
    "from pyspark.sql import Row\n",
    "\n",
    "from pyspark.sql.types import *\n",
    "\n",
    "import json\n",
    "\n",
    "import numpy as np"
   ]
  },
  {
   "cell_type": "code",
   "execution_count": 2,
   "metadata": {},
   "outputs": [],
   "source": [
    "sc = SparkContext.getOrCreate()\n",
    "\n",
    "spark = SparkSession(sc)"
   ]
  },
  {
   "cell_type": "code",
   "execution_count": 3,
   "metadata": {},
   "outputs": [],
   "source": [
    "stockspark = spark.read.json('stockdata.json')\n",
    "\n",
    "companyspark = spark.read.json('companyinfo.json')"
   ]
  },
  {
   "cell_type": "code",
   "execution_count": 4,
   "metadata": {},
   "outputs": [
    {
     "name": "stdout",
     "output_type": "stream",
     "text": [
      "+--------------------+--------------------+------+\n",
      "|                Name|              Sector|Symbol|\n",
      "+--------------------+--------------------+------+\n",
      "|Agilent Technolog...|         Health Care|     A|\n",
      "|American Airlines...|         Industrials|   AAL|\n",
      "|  Advance Auto Parts|Consumer Discreti...|   AAP|\n",
      "|          Apple Inc.|Information Techn...|  AAPL|\n",
      "|         AbbVie Inc.|         Health Care|  ABBV|\n",
      "|AmerisourceBergen...|         Health Care|   ABC|\n",
      "|         ABIOMED Inc|         Health Care|  ABMD|\n",
      "| Abbott Laboratories|         Health Care|   ABT|\n",
      "|       Accenture plc|Information Techn...|   ACN|\n",
      "|          Adobe Inc.|Information Techn...|  ADBE|\n",
      "+--------------------+--------------------+------+\n",
      "only showing top 10 rows\n",
      "\n"
     ]
    }
   ],
   "source": [
    "companyspark.show(10)"
   ]
  },
  {
   "cell_type": "code",
   "execution_count": 7,
   "metadata": {},
   "outputs": [
    {
     "name": "stdout",
     "output_type": "stream",
     "text": [
      "+-----+----------+---------+-----+-----+----+-----+---------+\n",
      "|close|      date|dividends| high|  low|name| open|   volume|\n",
      "+-----+----------+---------+-----+-----+----+-----+---------+\n",
      "| 85.4|01/02/2020|      0.0| 85.8|84.65|   A|85.35|1410500.0|\n",
      "|84.03|01/03/2020|      0.0|84.78|83.96|   A|84.13|1118300.0|\n",
      "|84.28|01/06/2020|      0.0|84.28|83.06|   A|83.46|1993200.0|\n",
      "|84.53|01/07/2020|      0.0|84.71| 83.4|   A|83.42|1684700.0|\n",
      "|85.37|01/08/2020|      0.0|85.91|84.65|   A|85.41|1847600.0|\n",
      "|86.71|01/09/2020|      0.0|87.14|85.62|   A| 85.9|1912700.0|\n",
      "|87.03|01/10/2020|      0.0|87.67|86.76|   A|87.16|1417000.0|\n",
      "| 86.9|01/13/2020|      0.0|87.75|86.18|   A|87.25|1630200.0|\n",
      "|87.43|01/14/2020|      0.0|87.64|86.14|   A|86.71|1675200.0|\n",
      "|88.05|01/15/2020|      0.0|88.54|86.99|   A|87.07|1630400.0|\n",
      "+-----+----------+---------+-----+-----+----+-----+---------+\n",
      "only showing top 10 rows\n",
      "\n"
     ]
    }
   ],
   "source": [
    "stockspark.show(10)\n"
   ]
  },
  {
   "cell_type": "code",
   "execution_count": 6,
   "metadata": {},
   "outputs": [],
   "source": [
    "sectorjoin=stockspark.join(companyspark,stockspark.name==companyspark.Symbol).select(stockspark.date,companyspark.Symbol,stockspark.open,stockspark.close,stockspark.high,stockspark.low,stockspark.volume,stockspark.dividends,companyspark.Sector)"
   ]
  },
  {
   "cell_type": "code",
   "execution_count": 7,
   "metadata": {},
   "outputs": [
    {
     "name": "stdout",
     "output_type": "stream",
     "text": [
      "+----------+------+-----+-----+-----+-----+---------+---------+-----------+\n",
      "|      date|Symbol| open|close| high|  low|   volume|dividends|     Sector|\n",
      "+----------+------+-----+-----+-----+-----+---------+---------+-----------+\n",
      "|01/02/2020|     A|85.35| 85.4| 85.8|84.65|1410500.0|      0.0|Health Care|\n",
      "|01/03/2020|     A|84.13|84.03|84.78|83.96|1118300.0|      0.0|Health Care|\n",
      "|01/06/2020|     A|83.46|84.28|84.28|83.06|1993200.0|      0.0|Health Care|\n",
      "|01/07/2020|     A|83.42|84.53|84.71| 83.4|1684700.0|      0.0|Health Care|\n",
      "|01/08/2020|     A|85.41|85.37|85.91|84.65|1847600.0|      0.0|Health Care|\n",
      "+----------+------+-----+-----+-----+-----+---------+---------+-----------+\n",
      "only showing top 5 rows\n",
      "\n"
     ]
    }
   ],
   "source": [
    "sectorjoin.show(5)\n"
   ]
  },
  {
   "cell_type": "code",
   "execution_count": 8,
   "metadata": {},
   "outputs": [
    {
     "name": "stdout",
     "output_type": "stream",
     "text": [
      "+--------------------+\n",
      "|              Sector|\n",
      "+--------------------+\n",
      "|         Health Care|\n",
      "|Communication Ser...|\n",
      "|              Energy|\n",
      "|Information Techn...|\n",
      "|         Real Estate|\n",
      "|           Materials|\n",
      "|Consumer Discreti...|\n",
      "|           Utilities|\n",
      "|    Consumer Staples|\n",
      "|         Industrials|\n",
      "|          Financials|\n",
      "+--------------------+\n",
      "\n"
     ]
    }
   ],
   "source": [
    "sectorjoin[['Sector']].distinct().show()\n"
   ]
  },
  {
   "cell_type": "code",
   "execution_count": 21,
   "metadata": {},
   "outputs": [
    {
     "name": "stdout",
     "output_type": "stream",
     "text": [
      "+------+--------------------+----------+--------+\n",
      "|Symbol|              Sector|      date|2020HIGH|\n",
      "+------+--------------------+----------+--------+\n",
      "|     A|         Health Care|03/25/2020|   68.56|\n",
      "|   AAL|         Industrials|03/04/2020|   18.53|\n",
      "|  ABBV|         Health Care|07/15/2020|   99.13|\n",
      "|   ABC|         Health Care|06/19/2020|  101.73|\n",
      "|  ABMD|         Health Care|01/17/2020|  181.28|\n",
      "|  ABMD|         Health Care|05/04/2020|   181.0|\n",
      "|   ACN|Information Techn...|04/06/2020|  164.06|\n",
      "|   ACN|Information Techn...|08/18/2020|  233.32|\n",
      "|  ADBE|Information Techn...|02/26/2020|  351.34|\n",
      "|   ADI|Information Techn...|03/19/2020|   89.37|\n",
      "|   ADM|    Consumer Staples|05/20/2020|   35.06|\n",
      "|   ADP|Information Techn...|02/12/2020|  174.74|\n",
      "|   AEE|           Utilities|01/21/2020|   78.54|\n",
      "|   AFL|          Financials|06/02/2020|   36.96|\n",
      "|   AFL|          Financials|07/08/2020|   35.14|\n",
      "|   AIG|          Financials|03/11/2020|   31.35|\n",
      "|   AIG|          Financials|07/28/2020|   30.61|\n",
      "|   AJG|          Financials|10/12/2020|  109.51|\n",
      "|   AJG|          Financials|11/04/2020|  111.75|\n",
      "|  AKAM|Information Techn...|03/11/2020|   87.02|\n",
      "+------+--------------------+----------+--------+\n",
      "only showing top 20 rows\n",
      "\n"
     ]
    }
   ],
   "source": [
    "#sectorjoin.groupBy(['Symbol','Sector','date']).agg({'close':'max'}).show()\n",
    "sectorjoin.groupBy(['Symbol','Sector','date']).agg(fc.max('close').alias('2020HIGH')).show()\n"
   ]
  },
  {
   "cell_type": "code",
   "execution_count": 26,
   "metadata": {},
   "outputs": [],
   "source": [
    "new1=sectorjoin[(sectorjoin.Sector=='Health Care')].groupBy(['Symbol','Sector']).agg(fc.max('close').alias('_2020HIGH'))\n"
   ]
  },
  {
   "cell_type": "code",
   "execution_count": 48,
   "metadata": {},
   "outputs": [
    {
     "name": "stdout",
     "output_type": "stream",
     "text": [
      "+------+-----------+---------+\n",
      "|Symbol|     Sector|_2020HIGH|\n",
      "+------+-----------+---------+\n",
      "|  AMGN|Health Care|   259.21|\n",
      "|  INCY|Health Care|   109.69|\n",
      "|  REGN|Health Care|   658.21|\n",
      "|   MCK|Health Care|   183.44|\n",
      "|  ILMN|Health Care|   400.74|\n",
      "|   CAH|Health Care|    58.65|\n",
      "|  PRGO|Health Care|    60.07|\n",
      "|  ALXN|Health Care|   127.62|\n",
      "|   BSX|Health Care|    45.71|\n",
      "|   STE|Health Care|   191.82|\n",
      "|   MDT|Health Care|   119.08|\n",
      "|   HUM|Health Care|   452.01|\n",
      "|  ABBV|Health Care|    99.48|\n",
      "|   SYK|Health Care|   234.35|\n",
      "|   WST|Health Care|   301.49|\n",
      "|    LH|Health Care|   214.42|\n",
      "|   MYL|Health Care|    22.85|\n",
      "|  HSIC|Health Care|    73.71|\n",
      "|    CI|Health Care|   222.51|\n",
      "|   ZTS|Health Care|   174.35|\n",
      "+------+-----------+---------+\n",
      "only showing top 20 rows\n",
      "\n"
     ]
    }
   ],
   "source": [
    "new1.show()"
   ]
  },
  {
   "cell_type": "code",
   "execution_count": 42,
   "metadata": {},
   "outputs": [],
   "source": [
    "new2=new1.join(sectorjoin,(new1.Symbol==sectorjoin.Symbol)).select(new1.Symbol,new1.Sector,sectorjoin.close,new1._2020HIGH,sectorjoin.date)\n"
   ]
  },
  {
   "cell_type": "code",
   "execution_count": 49,
   "metadata": {},
   "outputs": [
    {
     "name": "stdout",
     "output_type": "stream",
     "text": [
      "+------+-----------+------+---------+----------+\n",
      "|Symbol|     Sector| close|_2020HIGH|      date|\n",
      "+------+-----------+------+---------+----------+\n",
      "|  ALXN|Health Care|107.84|   127.62|01/02/2020|\n",
      "|  ALXN|Health Care|106.41|   127.62|01/03/2020|\n",
      "|  ALXN|Health Care|106.58|   127.62|01/06/2020|\n",
      "|  ALXN|Health Care|106.85|   127.62|01/07/2020|\n",
      "|  ALXN|Health Care|108.58|   127.62|01/08/2020|\n",
      "+------+-----------+------+---------+----------+\n",
      "only showing top 5 rows\n",
      "\n"
     ]
    }
   ],
   "source": [
    "new2.show(5)"
   ]
  },
  {
   "cell_type": "code",
   "execution_count": null,
   "metadata": {},
   "outputs": [],
   "source": []
  }
 ],
 "metadata": {
  "kernelspec": {
   "display_name": "Python 3",
   "language": "python",
   "name": "python3"
  },
  "language_info": {
   "codemirror_mode": {
    "name": "ipython",
    "version": 3
   },
   "file_extension": ".py",
   "mimetype": "text/x-python",
   "name": "python",
   "nbconvert_exporter": "python",
   "pygments_lexer": "ipython3",
   "version": "3.7.6"
  }
 },
 "nbformat": 4,
 "nbformat_minor": 4
}
