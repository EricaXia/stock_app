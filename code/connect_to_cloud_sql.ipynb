{
 "cells": [
  {
   "cell_type": "code",
   "execution_count": 1,
   "metadata": {},
   "outputs": [],
   "source": [
    "import mysql.connector\n",
    "\n",
    "import datetime\n",
    "\n",
    "import csv\n",
    "\n",
    "import pandas as pd\n",
    "\n",
    "from sqlalchemy import create_engine\n",
    "\n",
    "import yfinance as yf"
   ]
  },
  {
   "cell_type": "code",
   "execution_count": 22,
   "metadata": {},
   "outputs": [],
   "source": [
    "import pymysql\n",
    "connection = pymysql.connect(host='127.0.0.1',\n",
    "                             user='root',\n",
    "                             password='PApOEaPbJNOM62p1',\n",
    "                             db='stockdb'\n",
    "                            ,port=1234)"
   ]
  },
  {
   "cell_type": "code",
   "execution_count": 23,
   "metadata": {},
   "outputs": [],
   "source": [
    "cur = connection.cursor()\n"
   ]
  },
  {
   "cell_type": "code",
   "execution_count": 4,
   "metadata": {},
   "outputs": [],
   "source": [
    "now=datetime.date.today()\n",
    "start = datetime.datetime(2020, 1, 1)\n",
    "end = now"
   ]
  },
  {
   "cell_type": "code",
   "execution_count": 5,
   "metadata": {},
   "outputs": [],
   "source": [
    "def companydata(file):\n",
    "    companyfull=list()\n",
    "    with open(file, newline='') as csvfile:\n",
    "        reader = csv.DictReader(csvfile)\n",
    "        #next(reader)\n",
    "        for row in reader:\n",
    "            companyfull.append(row)\n",
    "    company=pd.DataFrame(companyfull)\n",
    "    return company"
   ]
  },
  {
   "cell_type": "code",
   "execution_count": 6,
   "metadata": {},
   "outputs": [],
   "source": [
    "company=companydata('500.csv')\n",
    "companysymbol=company[\"Symbol\"].tolist()\n",
    "company1=company.drop(columns=['Name'])\n",
    "Symbols=company['Symbol'].tolist()"
   ]
  },
  {
   "cell_type": "code",
   "execution_count": 18,
   "metadata": {},
   "outputs": [
    {
     "data": {
      "text/plain": [
       "0"
      ]
     },
     "execution_count": 18,
     "metadata": {},
     "output_type": "execute_result"
    }
   ],
   "source": [
    "#cur.execute(\"CREATE TABLE test1 (Ticker TEXT)\")\n",
    "#cur.execute(\"DROP TABLE CompanyInfo\")\n",
    "#cur.execute(\"DROP TABLE CompanyInfo\")"
   ]
  },
  {
   "cell_type": "code",
   "execution_count": 43,
   "metadata": {},
   "outputs": [
    {
     "data": {
      "text/plain": [
       "0"
      ]
     },
     "execution_count": 43,
     "metadata": {},
     "output_type": "execute_result"
    }
   ],
   "source": [
    "#cur.execute(\"CREATE TABLE CompanyInformation(symbol VARCHAR(250),name VARCHAR(250),sector VARCHAR(250),PRIMARY KEY (symbol))\")"
   ]
  },
  {
   "cell_type": "code",
   "execution_count": 133,
   "metadata": {},
   "outputs": [
    {
     "data": {
      "text/plain": [
       "0"
      ]
     },
     "execution_count": 133,
     "metadata": {},
     "output_type": "execute_result"
    }
   ],
   "source": [
    "cur.execute(\"DROP TABLE MMM\")"
   ]
  },
  {
   "cell_type": "code",
   "execution_count": 114,
   "metadata": {},
   "outputs": [
    {
     "data": {
      "text/plain": [
       "1"
      ]
     },
     "execution_count": 114,
     "metadata": {},
     "output_type": "execute_result"
    }
   ],
   "source": [
    "cur.execute(\"SHOW TABLES\")"
   ]
  },
  {
   "cell_type": "code",
   "execution_count": 86,
   "metadata": {},
   "outputs": [
    {
     "data": {
      "text/plain": [
       "(('CompanyInformation',), ('M',))"
      ]
     },
     "execution_count": 86,
     "metadata": {},
     "output_type": "execute_result"
    }
   ],
   "source": [
    "\n",
    "TABLENAME = cur.fetchall()\n",
    "TABLENAME"
   ]
  },
  {
   "cell_type": "code",
   "execution_count": 101,
   "metadata": {},
   "outputs": [
    {
     "data": {
      "text/plain": [
       "2"
      ]
     },
     "execution_count": 101,
     "metadata": {},
     "output_type": "execute_result"
    }
   ],
   "source": [
    "cur.execute(\"SHOW TABLES\")"
   ]
  },
  {
   "cell_type": "code",
   "execution_count": 41,
   "metadata": {},
   "outputs": [],
   "source": [
    "company[\"new_name\"] = company['Name'].str.replace(\"[']\",'')"
   ]
  },
  {
   "cell_type": "code",
   "execution_count": 42,
   "metadata": {},
   "outputs": [
    {
     "data": {
      "text/html": [
       "<div>\n",
       "<style scoped>\n",
       "    .dataframe tbody tr th:only-of-type {\n",
       "        vertical-align: middle;\n",
       "    }\n",
       "\n",
       "    .dataframe tbody tr th {\n",
       "        vertical-align: top;\n",
       "    }\n",
       "\n",
       "    .dataframe thead th {\n",
       "        text-align: right;\n",
       "    }\n",
       "</style>\n",
       "<table border=\"1\" class=\"dataframe\">\n",
       "  <thead>\n",
       "    <tr style=\"text-align: right;\">\n",
       "      <th></th>\n",
       "      <th>Symbol</th>\n",
       "      <th>Name</th>\n",
       "      <th>Sector</th>\n",
       "      <th>new_name</th>\n",
       "    </tr>\n",
       "  </thead>\n",
       "  <tbody>\n",
       "    <tr>\n",
       "      <th>0</th>\n",
       "      <td>MMM</td>\n",
       "      <td>3M Company</td>\n",
       "      <td>Industrials</td>\n",
       "      <td>3M Company</td>\n",
       "    </tr>\n",
       "    <tr>\n",
       "      <th>1</th>\n",
       "      <td>AOS</td>\n",
       "      <td>A.O. Smith Corp</td>\n",
       "      <td>Industrials</td>\n",
       "      <td>A.O. Smith Corp</td>\n",
       "    </tr>\n",
       "    <tr>\n",
       "      <th>2</th>\n",
       "      <td>ABT</td>\n",
       "      <td>Abbott Laboratories</td>\n",
       "      <td>Health Care</td>\n",
       "      <td>Abbott Laboratories</td>\n",
       "    </tr>\n",
       "    <tr>\n",
       "      <th>3</th>\n",
       "      <td>ABBV</td>\n",
       "      <td>AbbVie Inc.</td>\n",
       "      <td>Health Care</td>\n",
       "      <td>AbbVie Inc.</td>\n",
       "    </tr>\n",
       "    <tr>\n",
       "      <th>4</th>\n",
       "      <td>ABMD</td>\n",
       "      <td>ABIOMED Inc</td>\n",
       "      <td>Health Care</td>\n",
       "      <td>ABIOMED Inc</td>\n",
       "    </tr>\n",
       "    <tr>\n",
       "      <th>...</th>\n",
       "      <td>...</td>\n",
       "      <td>...</td>\n",
       "      <td>...</td>\n",
       "      <td>...</td>\n",
       "    </tr>\n",
       "    <tr>\n",
       "      <th>500</th>\n",
       "      <td>YUM</td>\n",
       "      <td>Yum! Brands Inc</td>\n",
       "      <td>Consumer Discretionary</td>\n",
       "      <td>Yum! Brands Inc</td>\n",
       "    </tr>\n",
       "    <tr>\n",
       "      <th>501</th>\n",
       "      <td>ZBRA</td>\n",
       "      <td>Zebra Technologies</td>\n",
       "      <td>Information Technology</td>\n",
       "      <td>Zebra Technologies</td>\n",
       "    </tr>\n",
       "    <tr>\n",
       "      <th>502</th>\n",
       "      <td>ZBH</td>\n",
       "      <td>Zimmer Biomet Holdings</td>\n",
       "      <td>Health Care</td>\n",
       "      <td>Zimmer Biomet Holdings</td>\n",
       "    </tr>\n",
       "    <tr>\n",
       "      <th>503</th>\n",
       "      <td>ZION</td>\n",
       "      <td>Zions Bancorp</td>\n",
       "      <td>Financials</td>\n",
       "      <td>Zions Bancorp</td>\n",
       "    </tr>\n",
       "    <tr>\n",
       "      <th>504</th>\n",
       "      <td>ZTS</td>\n",
       "      <td>Zoetis</td>\n",
       "      <td>Health Care</td>\n",
       "      <td>Zoetis</td>\n",
       "    </tr>\n",
       "  </tbody>\n",
       "</table>\n",
       "<p>505 rows × 4 columns</p>\n",
       "</div>"
      ],
      "text/plain": [
       "    Symbol                    Name                  Sector  \\\n",
       "0      MMM              3M Company             Industrials   \n",
       "1      AOS         A.O. Smith Corp             Industrials   \n",
       "2      ABT     Abbott Laboratories             Health Care   \n",
       "3     ABBV             AbbVie Inc.             Health Care   \n",
       "4     ABMD             ABIOMED Inc             Health Care   \n",
       "..     ...                     ...                     ...   \n",
       "500    YUM         Yum! Brands Inc  Consumer Discretionary   \n",
       "501   ZBRA      Zebra Technologies  Information Technology   \n",
       "502    ZBH  Zimmer Biomet Holdings             Health Care   \n",
       "503   ZION           Zions Bancorp              Financials   \n",
       "504    ZTS                  Zoetis             Health Care   \n",
       "\n",
       "                   new_name  \n",
       "0                3M Company  \n",
       "1           A.O. Smith Corp  \n",
       "2       Abbott Laboratories  \n",
       "3               AbbVie Inc.  \n",
       "4               ABIOMED Inc  \n",
       "..                      ...  \n",
       "500         Yum! Brands Inc  \n",
       "501      Zebra Technologies  \n",
       "502  Zimmer Biomet Holdings  \n",
       "503           Zions Bancorp  \n",
       "504                  Zoetis  \n",
       "\n",
       "[505 rows x 4 columns]"
      ]
     },
     "execution_count": 42,
     "metadata": {},
     "output_type": "execute_result"
    }
   ],
   "source": [
    "company"
   ]
  },
  {
   "cell_type": "code",
   "execution_count": 52,
   "metadata": {},
   "outputs": [
    {
     "data": {
      "text/plain": [
       "('A', 'Agilent Technologies Inc', 'Health Care')"
      ]
     },
     "execution_count": 52,
     "metadata": {},
     "output_type": "execute_result"
    }
   ],
   "source": [
    "sqlcode1=('Select * From CompanyInformation')\n",
    "cur.execute(sqlcode1)\n",
    "test1 = cur.fetchone()\n",
    "test1"
   ]
  },
  {
   "cell_type": "code",
   "execution_count": 45,
   "metadata": {},
   "outputs": [],
   "source": [
    "for row in company.iterrows():\n",
    "\n",
    "    idx = row[0]\n",
    "    symbol = row[1][0]\n",
    "    name = row[1][3]\n",
    "    sector = row[1][2]\n",
    "\n",
    "    try: \n",
    "        cur.execute(f\"INSERT INTO CompanyInformation (symbol,name,sector) VALUES ('{symbol}','{name}', '{sector}');\")\n",
    "\n",
    "    except Exception as e:\n",
    "        print(e)\n",
    "        continue"
   ]
  },
  {
   "cell_type": "code",
   "execution_count": 53,
   "metadata": {},
   "outputs": [
    {
     "data": {
      "text/plain": [
       "('AAL', 'American Airlines Group', 'Industrials')"
      ]
     },
     "execution_count": 53,
     "metadata": {},
     "output_type": "execute_result"
    }
   ],
   "source": [
    "sqlcode1=('Select * From CompanyInformation Where Sector=\"Industrials\"')\n",
    "cur.execute(sqlcode1)\n",
    "Industrials = cur.fetchone()\n",
    "Industrials"
   ]
  },
  {
   "cell_type": "code",
   "execution_count": 70,
   "metadata": {},
   "outputs": [
    {
     "data": {
      "text/plain": [
       "'MMM'"
      ]
     },
     "execution_count": 70,
     "metadata": {},
     "output_type": "execute_result"
    }
   ],
   "source": [
    "Symbols[0]"
   ]
  },
  {
   "cell_type": "code",
   "execution_count": 127,
   "metadata": {},
   "outputs": [
    {
     "data": {
      "text/plain": [
       "DatetimeIndex(['2020-01-02', '2020-01-03', '2020-01-06', '2020-01-07',\n",
       "               '2020-01-08', '2020-01-09', '2020-01-10', '2020-01-13',\n",
       "               '2020-01-14', '2020-01-15',\n",
       "               ...\n",
       "               '2020-10-23', '2020-10-26', '2020-10-27', '2020-10-28',\n",
       "               '2020-10-29', '2020-10-30', '2020-11-02', '2020-11-03',\n",
       "               '2020-11-04', '2020-11-05'],\n",
       "              dtype='datetime64[ns]', name='Date', length=215, freq=None)"
      ]
     },
     "execution_count": 127,
     "metadata": {},
     "output_type": "execute_result"
    }
   ],
   "source": [
    "df.index"
   ]
  },
  {
   "cell_type": "code",
   "execution_count": 81,
   "metadata": {},
   "outputs": [
    {
     "data": {
      "text/plain": [
       "Date\n",
       "2020-01-02    0\n",
       "2020-01-03    0\n",
       "2020-01-06    0\n",
       "2020-01-07    0\n",
       "2020-01-08    0\n",
       "             ..\n",
       "2020-10-30    0\n",
       "2020-11-02    0\n",
       "2020-11-03    0\n",
       "2020-11-04    0\n",
       "2020-11-05    0\n",
       "Name: Stock Splits, Length: 215, dtype: int64"
      ]
     },
     "execution_count": 81,
     "metadata": {},
     "output_type": "execute_result"
    }
   ],
   "source": [
    "df['Stock Splits']"
   ]
  },
  {
   "cell_type": "code",
   "execution_count": 134,
   "metadata": {},
   "outputs": [
    {
     "name": "stdout",
     "output_type": "stream",
     "text": [
      "execute() takes from 2 to 3 positional arguments but 9 were given\n"
     ]
    }
   ],
   "source": [
    "list1=['MMM']\n",
    "for i in list1:\n",
    "    symbol=yf.Ticker(i)\n",
    "    df1 = symbol.history(start = start,end=end)\n",
    "    try:\n",
    "        cur.execute(\"CREATE TABLE \"+i+\"(date datetime,open float,high float,low float,close float,volume float,dividends float)\")\n",
    "        df1 = symbol.history(start = start,end=end)\n",
    "        for index, row in df1.iterrows():\n",
    "            #sqlcode=(\"INSERT INTO \"+i+\"(date,open,high,low,close,volume,dividends) values(?,?,?,?,?,?,?)\", index,row.Open,row.High,row.Low,row.Close,row.Volume,row.Dividends)\n",
    "            #cur.execute(f\"INSERT INTO \"+i+\"(date,open,high,low,close,volume,dividends) VALUES ('index','{row.Open}', '{row.High}','{row.Low}','{row.Close}','{row.Volume}','{row.Dividends}');\")\n",
    "            \n",
    "            \n",
    "            #print(sqlcode)\n",
    "            #cur.execute(sqlcode)\n",
    "            cur.execute(\"INSERT INTO \"+i+\"(date,open,high,low,close,volume,dividends) values(?,?,?,?,?,?,?)\", index,row.Open,row.High,row.Low,row.Close,row.Volume,row.Dividends)\n",
    "    except Exception as e:\n",
    "        print(e)\n",
    "        continue"
   ]
  },
  {
   "cell_type": "code",
   "execution_count": null,
   "metadata": {},
   "outputs": [],
   "source": [
    "#cur.execute(\"CREATE TABLE \"+i+\"(date DATE,open float,high float,low float,close float,volume float,dividends float,stock_splits float)\")\n",
    "#df1 = symbol.history(start = start,end=end)\n",
    "#cur.execute(f\"INSERT INTO \"+i+\"(date,open,high,low,close,volume,dividends,stock_splits) VALUES ('{df.index}','{df['Open']}', '{df['High'],{df['Low']},{df['Close']},{df['Volume']},{df['Dividends']},{df['Stock Splits']}}');\")\n",
    "    "
   ]
  },
  {
   "cell_type": "code",
   "execution_count": 82,
   "metadata": {},
   "outputs": [
    {
     "data": {
      "text/plain": [
       "Index(['Open', 'High', 'Low', 'Close', 'Volume', 'Dividends', 'Stock Splits'], dtype='object')"
      ]
     },
     "execution_count": 82,
     "metadata": {},
     "output_type": "execute_result"
    }
   ],
   "source": [
    "for i in Symbols[0]:\n",
    "    symbol=yf.Ticker(i)\n",
    "    df1 = symbol.history(start = start,end=end)\n",
    "    #try:\n",
    "        #cur.execute(\"CREATE TABLE \"+i+\"(date DATE,open float,high float,low float,close float,volume float,dividends float,stock_splits float)\")\n",
    "        #df1 = symbol.history(start = start,end=end)\n",
    "        #cur.execute(f\"INSERT INTO \"+i+\"(date,open,high,low,close,volume,dividends,stock_splits) VALUES ('{df.index}','{df['Open']}', '{df['High'],{df['Low']},{df['Close']},{df['Volume']},{df['Dividends']},{df['Stock Splits']}}');\")\n",
    "    #except:\n",
    "        #continue\n",
    "\n",
    "df.columns\n",
    "#df.index"
   ]
  },
  {
   "cell_type": "code",
   "execution_count": 88,
   "metadata": {},
   "outputs": [
    {
     "data": {
      "text/plain": [
       "()"
      ]
     },
     "execution_count": 88,
     "metadata": {},
     "output_type": "execute_result"
    }
   ],
   "source": [
    "sqlcode=('Select * From M')\n",
    "cur.execute(sqlcode)\n",
    "test2 = cur.fetchall()\n",
    "test2"
   ]
  },
  {
   "cell_type": "code",
   "execution_count": null,
   "metadata": {},
   "outputs": [],
   "source": [
    "def pastdata(Symbols):\n",
    "    for i in Symbols:\n",
    "        cur.execute(\"CREATE TABLE CompanyInformation(symbol VARCHAR(250),name VARCHAR(250),sector VARCHAR(250),PRIMARY KEY (symbol))\")\n",
    "        symbol=yf.Ticker(i)\n",
    "        try:\n",
    "            df = symbol.history(start = start,end=end)\n",
    "            #df.to_sql(i, con = engine, if_exists = 'append', chunksize = 1000, index = True)\n",
    "        except:\n",
    "            continue"
   ]
  }
 ],
 "metadata": {
  "kernelspec": {
   "display_name": "Python 3",
   "language": "python",
   "name": "python3"
  },
  "language_info": {
   "codemirror_mode": {
    "name": "ipython",
    "version": 3
   },
   "file_extension": ".py",
   "mimetype": "text/x-python",
   "name": "python",
   "nbconvert_exporter": "python",
   "pygments_lexer": "ipython3",
   "version": "3.7.6"
  }
 },
 "nbformat": 4,
 "nbformat_minor": 4
}
